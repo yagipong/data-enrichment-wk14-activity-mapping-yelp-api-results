{
 "cells": [
  {
   "cell_type": "markdown",
   "id": "c6d4c9a7",
   "metadata": {
    "id": "8guYh-VR7nlX"
   },
   "source": [
    "# Part 2 - Mapping Yelp Search Results"
   ]
  },
  {
   "cell_type": "markdown",
   "id": "9be6e6c0",
   "metadata": {},
   "source": []
  },
  {
   "cell_type": "markdown",
   "id": "8f1dfbbf",
   "metadata": {},
   "source": [
    "## Obective"
   ]
  },
  {
   "cell_type": "markdown",
   "id": "37daea31",
   "metadata": {
    "id": "8guYh-VR7nlX"
   },
   "source": [
    "- For this CodeAlong, we will be working with the Yelp API results from last class. \n",
    "- You will load in the .csv.gz of your yelp results and prepare the data for visualization.\n",
    "- You will use Plotly Express to create an interactive map with all of the results."
   ]
  },
  {
   "cell_type": "markdown",
   "id": "0a02a2fd",
   "metadata": {
    "id": "8guYh-VR7nlX"
   },
   "source": [
    "## Tools You Will Use\n",
    "- Part 1:\n",
    "    - Yelp API:\n",
    "        - Getting Started: \n",
    "            - https://www.yelp.com/developers/documentation/v3/get_started\n",
    "\n",
    "    - `YelpAPI` python package\n",
    "        -  \"YelpAPI\": https://github.com/gfairchild/yelpapi\n",
    "- Part 2:\n",
    "\n",
    "    - Plotly Express: https://plotly.com/python/getting-started/\n",
    "        - With Mapbox API: https://www.mapbox.com/\n",
    "        - `px.scatter_mapbox` [Documentation](https://plotly.com/python/scattermapbox/): \n",
    "\n",
    "\n"
   ]
  },
  {
   "cell_type": "markdown",
   "id": "a3f15049",
   "metadata": {},
   "source": [
    "### Applying Code From\n",
    "- [Advanced Transformations with Pandas - Part 1](https://login.codingdojo.com/m/376/12529/88086)\n",
    "- [Advanced Transformations with Pandas - Part 2](https://login.codingdojo.com/m/376/12529/88088)"
   ]
  },
  {
   "cell_type": "markdown",
   "id": "745e757f",
   "metadata": {},
   "source": [
    "### Goal"
   ]
  },
  {
   "cell_type": "markdown",
   "id": "a27ea8f9",
   "metadata": {},
   "source": [
    "- We want to create a map with every restaurant plotted as a scatter plot with detailed information that appears when we hover over a business\n",
    "- We will use plotly express's `px.scatter_mapbox` function to accomplish this.\n",
    "    - https://plotly.com/python/scattermapbox/\n",
    "    \n",
    "    - We will need a Mapbox API token for some of the options:\n",
    "        - https://studio.mapbox.com/\n",
    "    "
   ]
  },
  {
   "cell_type": "markdown",
   "id": "8c50b2b6",
   "metadata": {},
   "source": [
    "# Loading Data from Part 1"
   ]
  },
  {
   "cell_type": "code",
   "execution_count": 1,
   "id": "ffa40ba8",
   "metadata": {},
   "outputs": [
    {
     "name": "stdout",
     "output_type": "stream",
     "text": [
      "Requirement already satisfied: plotly in /opt/homebrew/Caskroom/miniforge/base/envs/dojo-env/lib/python3.9/site-packages (5.11.0)\r\n",
      "Requirement already satisfied: tenacity>=6.2.0 in /opt/homebrew/Caskroom/miniforge/base/envs/dojo-env/lib/python3.9/site-packages (from plotly) (8.1.0)\r\n"
     ]
    }
   ],
   "source": [
    "## Plotly is not included in your dojo-env\n",
    "!pip install plotly"
   ]
  },
  {
   "cell_type": "code",
   "execution_count": 2,
   "id": "6c26b323",
   "metadata": {},
   "outputs": [],
   "source": [
    "# Standard Imports\n",
    "import numpy as np\n",
    "import pandas as pd\n",
    "import matplotlib.pyplot as plt\n",
    "import seaborn as sns\n",
    "\n",
    "import json\n",
    "\n",
    "## importing plotly \n",
    "import plotly.express as px"
   ]
  },
  {
   "cell_type": "code",
   "execution_count": 3,
   "id": "73f882e7",
   "metadata": {},
   "outputs": [
    {
     "data": {
      "text/html": [
       "<div>\n",
       "<style scoped>\n",
       "    .dataframe tbody tr th:only-of-type {\n",
       "        vertical-align: middle;\n",
       "    }\n",
       "\n",
       "    .dataframe tbody tr th {\n",
       "        vertical-align: top;\n",
       "    }\n",
       "\n",
       "    .dataframe thead th {\n",
       "        text-align: right;\n",
       "    }\n",
       "</style>\n",
       "<table border=\"1\" class=\"dataframe\">\n",
       "  <thead>\n",
       "    <tr style=\"text-align: right;\">\n",
       "      <th></th>\n",
       "      <th>id</th>\n",
       "      <th>alias</th>\n",
       "      <th>name</th>\n",
       "      <th>image_url</th>\n",
       "      <th>is_closed</th>\n",
       "      <th>url</th>\n",
       "      <th>review_count</th>\n",
       "      <th>categories</th>\n",
       "      <th>rating</th>\n",
       "      <th>coordinates</th>\n",
       "      <th>transactions</th>\n",
       "      <th>location</th>\n",
       "      <th>phone</th>\n",
       "      <th>display_phone</th>\n",
       "      <th>distance</th>\n",
       "      <th>price</th>\n",
       "    </tr>\n",
       "  </thead>\n",
       "  <tbody>\n",
       "    <tr>\n",
       "      <th>0</th>\n",
       "      <td>EwrAoy7XbX8nfemZdDvupA</td>\n",
       "      <td>cornelly-seattle</td>\n",
       "      <td>Cornelly</td>\n",
       "      <td>https://s3-media4.fl.yelpcdn.com/bphoto/HlYYBT...</td>\n",
       "      <td>False</td>\n",
       "      <td>https://www.yelp.com/biz/cornelly-seattle?adju...</td>\n",
       "      <td>101</td>\n",
       "      <td>[{'alias': 'pizza', 'title': 'Pizza'}, {'alias...</td>\n",
       "      <td>4.5</td>\n",
       "      <td>{'latitude': 47.624577, 'longitude': -122.325577}</td>\n",
       "      <td>['delivery', 'pickup']</td>\n",
       "      <td>{'address1': '601 Summit Ave E', 'address2': '...</td>\n",
       "      <td>NaN</td>\n",
       "      <td>NaN</td>\n",
       "      <td>2578.701393</td>\n",
       "      <td>NaN</td>\n",
       "    </tr>\n",
       "    <tr>\n",
       "      <th>1</th>\n",
       "      <td>FVbwpNA1uZEGiM02N4XtUg</td>\n",
       "      <td>blotto-seattle</td>\n",
       "      <td>Blotto</td>\n",
       "      <td>https://s3-media3.fl.yelpcdn.com/bphoto/Q4Y1Cw...</td>\n",
       "      <td>False</td>\n",
       "      <td>https://www.yelp.com/biz/blotto-seattle?adjust...</td>\n",
       "      <td>40</td>\n",
       "      <td>[{'alias': 'pizza', 'title': 'Pizza'}]</td>\n",
       "      <td>4.5</td>\n",
       "      <td>{'latitude': 47.61849, 'longitude': -122.31664}</td>\n",
       "      <td>[]</td>\n",
       "      <td>{'address1': '1830 12th Ave', 'address2': '', ...</td>\n",
       "      <td>1.206403e+10</td>\n",
       "      <td>(206) 403-1809</td>\n",
       "      <td>1686.862176</td>\n",
       "      <td>NaN</td>\n",
       "    </tr>\n",
       "    <tr>\n",
       "      <th>2</th>\n",
       "      <td>fxyHWmfzcdjImgQ_UYHoTw</td>\n",
       "      <td>bar-cotto-seattle</td>\n",
       "      <td>Bar Cotto</td>\n",
       "      <td>https://s3-media3.fl.yelpcdn.com/bphoto/07DoPF...</td>\n",
       "      <td>False</td>\n",
       "      <td>https://www.yelp.com/biz/bar-cotto-seattle?adj...</td>\n",
       "      <td>343</td>\n",
       "      <td>[{'alias': 'bars', 'title': 'Bars'}, {'alias':...</td>\n",
       "      <td>4.5</td>\n",
       "      <td>{'latitude': 47.6146934, 'longitude': -122.312...</td>\n",
       "      <td>['delivery', 'pickup']</td>\n",
       "      <td>{'address1': '1546 15th Ave', 'address2': '', ...</td>\n",
       "      <td>1.206839e+10</td>\n",
       "      <td>(206) 838-8081</td>\n",
       "      <td>1292.526796</td>\n",
       "      <td>$$</td>\n",
       "    </tr>\n",
       "    <tr>\n",
       "      <th>3</th>\n",
       "      <td>IrohtoYjnAR_vc6w6CRCxA</td>\n",
       "      <td>moto-seattle</td>\n",
       "      <td>Moto</td>\n",
       "      <td>https://s3-media2.fl.yelpcdn.com/bphoto/FBmvjy...</td>\n",
       "      <td>False</td>\n",
       "      <td>https://www.yelp.com/biz/moto-seattle?adjust_c...</td>\n",
       "      <td>143</td>\n",
       "      <td>[{'alias': 'pizza', 'title': 'Pizza'}, {'alias...</td>\n",
       "      <td>4.5</td>\n",
       "      <td>{'latitude': 47.56207, 'longitude': -122.38509}</td>\n",
       "      <td>['delivery']</td>\n",
       "      <td>{'address1': '4526 42nd Ave SW', 'address2': '...</td>\n",
       "      <td>1.206421e+10</td>\n",
       "      <td>(206) 420-8880</td>\n",
       "      <td>8784.075722</td>\n",
       "      <td>$$</td>\n",
       "    </tr>\n",
       "    <tr>\n",
       "      <th>4</th>\n",
       "      <td>Wi6LFkjIausYj277ru6pqg</td>\n",
       "      <td>humble-pie-seattle</td>\n",
       "      <td>Humble Pie</td>\n",
       "      <td>https://s3-media4.fl.yelpcdn.com/bphoto/A08GOZ...</td>\n",
       "      <td>False</td>\n",
       "      <td>https://www.yelp.com/biz/humble-pie-seattle?ad...</td>\n",
       "      <td>362</td>\n",
       "      <td>[{'alias': 'pizza', 'title': 'Pizza'}]</td>\n",
       "      <td>4.0</td>\n",
       "      <td>{'latitude': 47.5976491915013, 'longitude': -1...</td>\n",
       "      <td>['delivery']</td>\n",
       "      <td>{'address1': '525 Rainier Ave S', 'address2': ...</td>\n",
       "      <td>1.206330e+10</td>\n",
       "      <td>(206) 329-5133</td>\n",
       "      <td>2166.834011</td>\n",
       "      <td>$$</td>\n",
       "    </tr>\n",
       "  </tbody>\n",
       "</table>\n",
       "</div>"
      ],
      "text/plain": [
       "                       id               alias        name  \\\n",
       "0  EwrAoy7XbX8nfemZdDvupA    cornelly-seattle    Cornelly   \n",
       "1  FVbwpNA1uZEGiM02N4XtUg      blotto-seattle      Blotto   \n",
       "2  fxyHWmfzcdjImgQ_UYHoTw   bar-cotto-seattle   Bar Cotto   \n",
       "3  IrohtoYjnAR_vc6w6CRCxA        moto-seattle        Moto   \n",
       "4  Wi6LFkjIausYj277ru6pqg  humble-pie-seattle  Humble Pie   \n",
       "\n",
       "                                           image_url  is_closed  \\\n",
       "0  https://s3-media4.fl.yelpcdn.com/bphoto/HlYYBT...      False   \n",
       "1  https://s3-media3.fl.yelpcdn.com/bphoto/Q4Y1Cw...      False   \n",
       "2  https://s3-media3.fl.yelpcdn.com/bphoto/07DoPF...      False   \n",
       "3  https://s3-media2.fl.yelpcdn.com/bphoto/FBmvjy...      False   \n",
       "4  https://s3-media4.fl.yelpcdn.com/bphoto/A08GOZ...      False   \n",
       "\n",
       "                                                 url  review_count  \\\n",
       "0  https://www.yelp.com/biz/cornelly-seattle?adju...           101   \n",
       "1  https://www.yelp.com/biz/blotto-seattle?adjust...            40   \n",
       "2  https://www.yelp.com/biz/bar-cotto-seattle?adj...           343   \n",
       "3  https://www.yelp.com/biz/moto-seattle?adjust_c...           143   \n",
       "4  https://www.yelp.com/biz/humble-pie-seattle?ad...           362   \n",
       "\n",
       "                                          categories  rating  \\\n",
       "0  [{'alias': 'pizza', 'title': 'Pizza'}, {'alias...     4.5   \n",
       "1             [{'alias': 'pizza', 'title': 'Pizza'}]     4.5   \n",
       "2  [{'alias': 'bars', 'title': 'Bars'}, {'alias':...     4.5   \n",
       "3  [{'alias': 'pizza', 'title': 'Pizza'}, {'alias...     4.5   \n",
       "4             [{'alias': 'pizza', 'title': 'Pizza'}]     4.0   \n",
       "\n",
       "                                         coordinates            transactions  \\\n",
       "0  {'latitude': 47.624577, 'longitude': -122.325577}  ['delivery', 'pickup']   \n",
       "1    {'latitude': 47.61849, 'longitude': -122.31664}                      []   \n",
       "2  {'latitude': 47.6146934, 'longitude': -122.312...  ['delivery', 'pickup']   \n",
       "3    {'latitude': 47.56207, 'longitude': -122.38509}            ['delivery']   \n",
       "4  {'latitude': 47.5976491915013, 'longitude': -1...            ['delivery']   \n",
       "\n",
       "                                            location         phone  \\\n",
       "0  {'address1': '601 Summit Ave E', 'address2': '...           NaN   \n",
       "1  {'address1': '1830 12th Ave', 'address2': '', ...  1.206403e+10   \n",
       "2  {'address1': '1546 15th Ave', 'address2': '', ...  1.206839e+10   \n",
       "3  {'address1': '4526 42nd Ave SW', 'address2': '...  1.206421e+10   \n",
       "4  {'address1': '525 Rainier Ave S', 'address2': ...  1.206330e+10   \n",
       "\n",
       "    display_phone     distance price  \n",
       "0             NaN  2578.701393   NaN  \n",
       "1  (206) 403-1809  1686.862176   NaN  \n",
       "2  (206) 838-8081  1292.526796    $$  \n",
       "3  (206) 420-8880  8784.075722    $$  \n",
       "4  (206) 329-5133  2166.834011    $$  "
      ]
     },
     "execution_count": 3,
     "metadata": {},
     "output_type": "execute_result"
    }
   ],
   "source": [
    "## Load in csv.gz\n",
    "df = pd.read_csv('Data/Seattle-pizza.csv.gz')\n",
    "df.head()"
   ]
  },
  {
   "cell_type": "markdown",
   "id": "182d9a50",
   "metadata": {},
   "source": [
    "## Required Preprocessing "
   ]
  },
  {
   "cell_type": "markdown",
   "id": "9db8a265",
   "metadata": {},
   "source": [
    "- 1. We need to get the latitude and longitude for each business as separate columns.\n",
    "- We also want to be able to show the restaurants:\n",
    "    - name,\n",
    "    - price range\n",
    "    - address\n",
    "    - and if they do delivery or takeout."
   ]
  },
  {
   "cell_type": "markdown",
   "id": "13d541ac",
   "metadata": {},
   "source": [
    "### Separating Latitude and Longitude"
   ]
  },
  {
   "cell_type": "code",
   "execution_count": 4,
   "id": "825c85f0",
   "metadata": {},
   "outputs": [
    {
     "data": {
      "text/html": [
       "<div>\n",
       "<style scoped>\n",
       "    .dataframe tbody tr th:only-of-type {\n",
       "        vertical-align: middle;\n",
       "    }\n",
       "\n",
       "    .dataframe tbody tr th {\n",
       "        vertical-align: top;\n",
       "    }\n",
       "\n",
       "    .dataframe thead th {\n",
       "        text-align: right;\n",
       "    }\n",
       "</style>\n",
       "<table border=\"1\" class=\"dataframe\">\n",
       "  <thead>\n",
       "    <tr style=\"text-align: right;\">\n",
       "      <th></th>\n",
       "      <th>0</th>\n",
       "    </tr>\n",
       "  </thead>\n",
       "  <tbody>\n",
       "    <tr>\n",
       "      <th>0</th>\n",
       "      <td>{'latitude': 47.624577, 'longitude': -122.325577}</td>\n",
       "    </tr>\n",
       "    <tr>\n",
       "      <th>1</th>\n",
       "      <td>{'latitude': 47.61849, 'longitude': -122.31664}</td>\n",
       "    </tr>\n",
       "    <tr>\n",
       "      <th>2</th>\n",
       "      <td>{'latitude': 47.6146934, 'longitude': -122.312...</td>\n",
       "    </tr>\n",
       "    <tr>\n",
       "      <th>3</th>\n",
       "      <td>{'latitude': 47.56207, 'longitude': -122.38509}</td>\n",
       "    </tr>\n",
       "    <tr>\n",
       "      <th>4</th>\n",
       "      <td>{'latitude': 47.5976491915013, 'longitude': -1...</td>\n",
       "    </tr>\n",
       "    <tr>\n",
       "      <th>...</th>\n",
       "      <td>...</td>\n",
       "    </tr>\n",
       "    <tr>\n",
       "      <th>850</th>\n",
       "      <td>{'latitude': 47.6157033283809, 'longitude': -1...</td>\n",
       "    </tr>\n",
       "    <tr>\n",
       "      <th>851</th>\n",
       "      <td>{'latitude': 47.6179959197781, 'longitude': -1...</td>\n",
       "    </tr>\n",
       "    <tr>\n",
       "      <th>852</th>\n",
       "      <td>{'latitude': 47.66410298, 'longitude': -122.31...</td>\n",
       "    </tr>\n",
       "    <tr>\n",
       "      <th>853</th>\n",
       "      <td>{'latitude': 47.61252119845868, 'longitude': -...</td>\n",
       "    </tr>\n",
       "    <tr>\n",
       "      <th>854</th>\n",
       "      <td>{'latitude': 47.6196463475606, 'longitude': -1...</td>\n",
       "    </tr>\n",
       "  </tbody>\n",
       "</table>\n",
       "<p>855 rows × 1 columns</p>\n",
       "</div>"
      ],
      "text/plain": [
       "                                                     0\n",
       "0    {'latitude': 47.624577, 'longitude': -122.325577}\n",
       "1      {'latitude': 47.61849, 'longitude': -122.31664}\n",
       "2    {'latitude': 47.6146934, 'longitude': -122.312...\n",
       "3      {'latitude': 47.56207, 'longitude': -122.38509}\n",
       "4    {'latitude': 47.5976491915013, 'longitude': -1...\n",
       "..                                                 ...\n",
       "850  {'latitude': 47.6157033283809, 'longitude': -1...\n",
       "851  {'latitude': 47.6179959197781, 'longitude': -1...\n",
       "852  {'latitude': 47.66410298, 'longitude': -122.31...\n",
       "853  {'latitude': 47.61252119845868, 'longitude': -...\n",
       "854  {'latitude': 47.6196463475606, 'longitude': -1...\n",
       "\n",
       "[855 rows x 1 columns]"
      ]
     },
     "execution_count": 4,
     "metadata": {},
     "output_type": "execute_result"
    }
   ],
   "source": [
    "## use .apply pd.Series to convert a dict to columns\n",
    "df['coordinates'].apply(pd.Series)"
   ]
  },
  {
   "cell_type": "markdown",
   "id": "faecca22",
   "metadata": {},
   "source": [
    "- Why didn't that work???"
   ]
  },
  {
   "cell_type": "code",
   "execution_count": 6,
   "id": "4c52b779",
   "metadata": {},
   "outputs": [
    {
     "data": {
      "text/plain": [
       "\"{'latitude': 47.61849, 'longitude': -122.31664}\""
      ]
     },
     "execution_count": 6,
     "metadata": {},
     "output_type": "execute_result"
    }
   ],
   "source": [
    "## slice out a single test coordinate\n",
    "test_coord = df.loc[1, 'coordinates']\n",
    "test_coord"
   ]
  },
  {
   "cell_type": "markdown",
   "id": "819d8252",
   "metadata": {},
   "source": [
    "- Its not a dictionary anymore!!! WTF??\n",
    "    - CSV files cant store iterables (lists, dictionaries) so they get converted to strings."
   ]
  },
  {
   "cell_type": "markdown",
   "id": "df7e7c71",
   "metadata": {},
   "source": [
    "### Fixing the String-Dictionaries"
   ]
  },
  {
   "cell_type": "markdown",
   "id": "76185b76",
   "metadata": {},
   "source": [
    "- The json module has another version of load and dump called `json.loads` and `json.dumps`\n",
    "    - These are designed to process STRINGS instead of files. \n",
    "    \n",
    "- If we use `json.loads` we can convert our string dictionary into an actual dictionary. "
   ]
  },
  {
   "cell_type": "code",
   "execution_count": 8,
   "id": "8e4ab9ed",
   "metadata": {},
   "outputs": [
    {
     "ename": "JSONDecodeError",
     "evalue": "Expecting property name enclosed in double quotes: line 1 column 2 (char 1)",
     "output_type": "error",
     "traceback": [
      "\u001b[0;31m---------------------------------------------------------------------------\u001b[0m",
      "\u001b[0;31mJSONDecodeError\u001b[0m                           Traceback (most recent call last)",
      "Cell \u001b[0;32mIn [8], line 2\u001b[0m\n\u001b[1;32m      1\u001b[0m \u001b[38;5;66;03m## Use json.loads on the test coordinate\u001b[39;00m\n\u001b[0;32m----> 2\u001b[0m \u001b[43mjson\u001b[49m\u001b[38;5;241;43m.\u001b[39;49m\u001b[43mloads\u001b[49m\u001b[43m(\u001b[49m\u001b[43mtest_coord\u001b[49m\u001b[43m)\u001b[49m\n",
      "File \u001b[0;32m/opt/homebrew/Caskroom/miniforge/base/envs/dojo-env/lib/python3.9/json/__init__.py:346\u001b[0m, in \u001b[0;36mloads\u001b[0;34m(s, cls, object_hook, parse_float, parse_int, parse_constant, object_pairs_hook, **kw)\u001b[0m\n\u001b[1;32m    341\u001b[0m     s \u001b[38;5;241m=\u001b[39m s\u001b[38;5;241m.\u001b[39mdecode(detect_encoding(s), \u001b[38;5;124m'\u001b[39m\u001b[38;5;124msurrogatepass\u001b[39m\u001b[38;5;124m'\u001b[39m)\n\u001b[1;32m    343\u001b[0m \u001b[38;5;28;01mif\u001b[39;00m (\u001b[38;5;28mcls\u001b[39m \u001b[38;5;129;01mis\u001b[39;00m \u001b[38;5;28;01mNone\u001b[39;00m \u001b[38;5;129;01mand\u001b[39;00m object_hook \u001b[38;5;129;01mis\u001b[39;00m \u001b[38;5;28;01mNone\u001b[39;00m \u001b[38;5;129;01mand\u001b[39;00m\n\u001b[1;32m    344\u001b[0m         parse_int \u001b[38;5;129;01mis\u001b[39;00m \u001b[38;5;28;01mNone\u001b[39;00m \u001b[38;5;129;01mand\u001b[39;00m parse_float \u001b[38;5;129;01mis\u001b[39;00m \u001b[38;5;28;01mNone\u001b[39;00m \u001b[38;5;129;01mand\u001b[39;00m\n\u001b[1;32m    345\u001b[0m         parse_constant \u001b[38;5;129;01mis\u001b[39;00m \u001b[38;5;28;01mNone\u001b[39;00m \u001b[38;5;129;01mand\u001b[39;00m object_pairs_hook \u001b[38;5;129;01mis\u001b[39;00m \u001b[38;5;28;01mNone\u001b[39;00m \u001b[38;5;129;01mand\u001b[39;00m \u001b[38;5;129;01mnot\u001b[39;00m kw):\n\u001b[0;32m--> 346\u001b[0m     \u001b[38;5;28;01mreturn\u001b[39;00m \u001b[43m_default_decoder\u001b[49m\u001b[38;5;241;43m.\u001b[39;49m\u001b[43mdecode\u001b[49m\u001b[43m(\u001b[49m\u001b[43ms\u001b[49m\u001b[43m)\u001b[49m\n\u001b[1;32m    347\u001b[0m \u001b[38;5;28;01mif\u001b[39;00m \u001b[38;5;28mcls\u001b[39m \u001b[38;5;129;01mis\u001b[39;00m \u001b[38;5;28;01mNone\u001b[39;00m:\n\u001b[1;32m    348\u001b[0m     \u001b[38;5;28mcls\u001b[39m \u001b[38;5;241m=\u001b[39m JSONDecoder\n",
      "File \u001b[0;32m/opt/homebrew/Caskroom/miniforge/base/envs/dojo-env/lib/python3.9/json/decoder.py:337\u001b[0m, in \u001b[0;36mJSONDecoder.decode\u001b[0;34m(self, s, _w)\u001b[0m\n\u001b[1;32m    332\u001b[0m \u001b[38;5;28;01mdef\u001b[39;00m \u001b[38;5;21mdecode\u001b[39m(\u001b[38;5;28mself\u001b[39m, s, _w\u001b[38;5;241m=\u001b[39mWHITESPACE\u001b[38;5;241m.\u001b[39mmatch):\n\u001b[1;32m    333\u001b[0m     \u001b[38;5;124;03m\"\"\"Return the Python representation of ``s`` (a ``str`` instance\u001b[39;00m\n\u001b[1;32m    334\u001b[0m \u001b[38;5;124;03m    containing a JSON document).\u001b[39;00m\n\u001b[1;32m    335\u001b[0m \n\u001b[1;32m    336\u001b[0m \u001b[38;5;124;03m    \"\"\"\u001b[39;00m\n\u001b[0;32m--> 337\u001b[0m     obj, end \u001b[38;5;241m=\u001b[39m \u001b[38;5;28;43mself\u001b[39;49m\u001b[38;5;241;43m.\u001b[39;49m\u001b[43mraw_decode\u001b[49m\u001b[43m(\u001b[49m\u001b[43ms\u001b[49m\u001b[43m,\u001b[49m\u001b[43m \u001b[49m\u001b[43midx\u001b[49m\u001b[38;5;241;43m=\u001b[39;49m\u001b[43m_w\u001b[49m\u001b[43m(\u001b[49m\u001b[43ms\u001b[49m\u001b[43m,\u001b[49m\u001b[43m \u001b[49m\u001b[38;5;241;43m0\u001b[39;49m\u001b[43m)\u001b[49m\u001b[38;5;241;43m.\u001b[39;49m\u001b[43mend\u001b[49m\u001b[43m(\u001b[49m\u001b[43m)\u001b[49m\u001b[43m)\u001b[49m\n\u001b[1;32m    338\u001b[0m     end \u001b[38;5;241m=\u001b[39m _w(s, end)\u001b[38;5;241m.\u001b[39mend()\n\u001b[1;32m    339\u001b[0m     \u001b[38;5;28;01mif\u001b[39;00m end \u001b[38;5;241m!=\u001b[39m \u001b[38;5;28mlen\u001b[39m(s):\n",
      "File \u001b[0;32m/opt/homebrew/Caskroom/miniforge/base/envs/dojo-env/lib/python3.9/json/decoder.py:353\u001b[0m, in \u001b[0;36mJSONDecoder.raw_decode\u001b[0;34m(self, s, idx)\u001b[0m\n\u001b[1;32m    344\u001b[0m \u001b[38;5;124;03m\"\"\"Decode a JSON document from ``s`` (a ``str`` beginning with\u001b[39;00m\n\u001b[1;32m    345\u001b[0m \u001b[38;5;124;03ma JSON document) and return a 2-tuple of the Python\u001b[39;00m\n\u001b[1;32m    346\u001b[0m \u001b[38;5;124;03mrepresentation and the index in ``s`` where the document ended.\u001b[39;00m\n\u001b[0;32m   (...)\u001b[0m\n\u001b[1;32m    350\u001b[0m \n\u001b[1;32m    351\u001b[0m \u001b[38;5;124;03m\"\"\"\u001b[39;00m\n\u001b[1;32m    352\u001b[0m \u001b[38;5;28;01mtry\u001b[39;00m:\n\u001b[0;32m--> 353\u001b[0m     obj, end \u001b[38;5;241m=\u001b[39m \u001b[38;5;28;43mself\u001b[39;49m\u001b[38;5;241;43m.\u001b[39;49m\u001b[43mscan_once\u001b[49m\u001b[43m(\u001b[49m\u001b[43ms\u001b[49m\u001b[43m,\u001b[49m\u001b[43m \u001b[49m\u001b[43midx\u001b[49m\u001b[43m)\u001b[49m\n\u001b[1;32m    354\u001b[0m \u001b[38;5;28;01mexcept\u001b[39;00m \u001b[38;5;167;01mStopIteration\u001b[39;00m \u001b[38;5;28;01mas\u001b[39;00m err:\n\u001b[1;32m    355\u001b[0m     \u001b[38;5;28;01mraise\u001b[39;00m JSONDecodeError(\u001b[38;5;124m\"\u001b[39m\u001b[38;5;124mExpecting value\u001b[39m\u001b[38;5;124m\"\u001b[39m, s, err\u001b[38;5;241m.\u001b[39mvalue) \u001b[38;5;28;01mfrom\u001b[39;00m \u001b[38;5;28mNone\u001b[39m\n",
      "\u001b[0;31mJSONDecodeError\u001b[0m: Expecting property name enclosed in double quotes: line 1 column 2 (char 1)"
     ]
    }
   ],
   "source": [
    "## Use json.loads on the test coordinate\n",
    "json.loads(test_coord)"
   ]
  },
  {
   "cell_type": "markdown",
   "id": "89771042",
   "metadata": {},
   "source": [
    "- JSON requires double quotes!"
   ]
  },
  {
   "cell_type": "code",
   "execution_count": 9,
   "id": "cf0fa89f",
   "metadata": {},
   "outputs": [
    {
     "data": {
      "text/plain": [
       "\"{'latitude': 47.61849, 'longitude': -122.31664}\""
      ]
     },
     "execution_count": 9,
     "metadata": {},
     "output_type": "execute_result"
    }
   ],
   "source": [
    "test_coord"
   ]
  },
  {
   "cell_type": "code",
   "execution_count": 11,
   "id": "25a459c3",
   "metadata": {},
   "outputs": [
    {
     "data": {
      "text/plain": [
       "'{\"latitude\": 47.61849, \"longitude\": -122.31664}'"
      ]
     },
     "execution_count": 11,
     "metadata": {},
     "output_type": "execute_result"
    }
   ],
   "source": [
    "## replace single ' with \" \n",
    "test_coord = test_coord.replace(\"'\", '\"')\n",
    "test_coord"
   ]
  },
  {
   "cell_type": "code",
   "execution_count": 12,
   "id": "baf7b4ce",
   "metadata": {},
   "outputs": [
    {
     "data": {
      "text/plain": [
       "{'latitude': 47.61849, 'longitude': -122.31664}"
      ]
     },
     "execution_count": 12,
     "metadata": {},
     "output_type": "execute_result"
    }
   ],
   "source": [
    "## Use json.loads on the test coordinate, again\n",
    "json.loads(test_coord)"
   ]
  },
  {
   "cell_type": "markdown",
   "id": "ac9a2c61",
   "metadata": {},
   "source": [
    "### Now, how can we apply this same process to the entire column??"
   ]
  },
  {
   "cell_type": "code",
   "execution_count": 13,
   "id": "815d26be",
   "metadata": {},
   "outputs": [],
   "source": [
    "## replace ' with \" (entire column)\n",
    "df['coordinates'] = df['coordinates'].str.replace(\"'\", '\"')\n",
    "\n",
    "## apply json.loads\n",
    "df['coordinates'] = df['coordinates'].apply(json.loads)"
   ]
  },
  {
   "cell_type": "code",
   "execution_count": 14,
   "id": "b417c990",
   "metadata": {},
   "outputs": [
    {
     "data": {
      "text/plain": [
       "dict"
      ]
     },
     "execution_count": 14,
     "metadata": {},
     "output_type": "execute_result"
    }
   ],
   "source": [
    "## slice out a single test coordinate\n",
    "test_coord = df.loc[0, 'coordinates']\n",
    "type(test_coord)"
   ]
  },
  {
   "cell_type": "markdown",
   "id": "a825c2f4",
   "metadata": {},
   "source": [
    "### Using Apply with pd.Series to convert a dictionary column into multiple columns"
   ]
  },
  {
   "cell_type": "code",
   "execution_count": 15,
   "id": "9b06ad2c",
   "metadata": {},
   "outputs": [
    {
     "data": {
      "text/html": [
       "<div>\n",
       "<style scoped>\n",
       "    .dataframe tbody tr th:only-of-type {\n",
       "        vertical-align: middle;\n",
       "    }\n",
       "\n",
       "    .dataframe tbody tr th {\n",
       "        vertical-align: top;\n",
       "    }\n",
       "\n",
       "    .dataframe thead th {\n",
       "        text-align: right;\n",
       "    }\n",
       "</style>\n",
       "<table border=\"1\" class=\"dataframe\">\n",
       "  <thead>\n",
       "    <tr style=\"text-align: right;\">\n",
       "      <th></th>\n",
       "      <th>latitude</th>\n",
       "      <th>longitude</th>\n",
       "    </tr>\n",
       "  </thead>\n",
       "  <tbody>\n",
       "    <tr>\n",
       "      <th>0</th>\n",
       "      <td>47.624577</td>\n",
       "      <td>-122.325577</td>\n",
       "    </tr>\n",
       "    <tr>\n",
       "      <th>1</th>\n",
       "      <td>47.618490</td>\n",
       "      <td>-122.316640</td>\n",
       "    </tr>\n",
       "    <tr>\n",
       "      <th>2</th>\n",
       "      <td>47.614693</td>\n",
       "      <td>-122.312764</td>\n",
       "    </tr>\n",
       "    <tr>\n",
       "      <th>3</th>\n",
       "      <td>47.562070</td>\n",
       "      <td>-122.385090</td>\n",
       "    </tr>\n",
       "    <tr>\n",
       "      <th>4</th>\n",
       "      <td>47.597649</td>\n",
       "      <td>-122.313306</td>\n",
       "    </tr>\n",
       "    <tr>\n",
       "      <th>...</th>\n",
       "      <td>...</td>\n",
       "      <td>...</td>\n",
       "    </tr>\n",
       "    <tr>\n",
       "      <th>850</th>\n",
       "      <td>47.615703</td>\n",
       "      <td>-122.200735</td>\n",
       "    </tr>\n",
       "    <tr>\n",
       "      <th>851</th>\n",
       "      <td>47.617996</td>\n",
       "      <td>-122.200456</td>\n",
       "    </tr>\n",
       "    <tr>\n",
       "      <th>852</th>\n",
       "      <td>47.664103</td>\n",
       "      <td>-122.313426</td>\n",
       "    </tr>\n",
       "    <tr>\n",
       "      <th>853</th>\n",
       "      <td>47.612521</td>\n",
       "      <td>-122.201333</td>\n",
       "    </tr>\n",
       "    <tr>\n",
       "      <th>854</th>\n",
       "      <td>47.619646</td>\n",
       "      <td>-122.196551</td>\n",
       "    </tr>\n",
       "  </tbody>\n",
       "</table>\n",
       "<p>855 rows × 2 columns</p>\n",
       "</div>"
      ],
      "text/plain": [
       "      latitude   longitude\n",
       "0    47.624577 -122.325577\n",
       "1    47.618490 -122.316640\n",
       "2    47.614693 -122.312764\n",
       "3    47.562070 -122.385090\n",
       "4    47.597649 -122.313306\n",
       "..         ...         ...\n",
       "850  47.615703 -122.200735\n",
       "851  47.617996 -122.200456\n",
       "852  47.664103 -122.313426\n",
       "853  47.612521 -122.201333\n",
       "854  47.619646 -122.196551\n",
       "\n",
       "[855 rows x 2 columns]"
      ]
     },
     "execution_count": 15,
     "metadata": {},
     "output_type": "execute_result"
    }
   ],
   "source": [
    "## use .apply pd.Series to convert a dict to columns\n",
    "df['coordinates'].apply(pd.Series)"
   ]
  },
  {
   "cell_type": "code",
   "execution_count": 16,
   "id": "a09d00b1",
   "metadata": {},
   "outputs": [
    {
     "data": {
      "text/html": [
       "<div>\n",
       "<style scoped>\n",
       "    .dataframe tbody tr th:only-of-type {\n",
       "        vertical-align: middle;\n",
       "    }\n",
       "\n",
       "    .dataframe tbody tr th {\n",
       "        vertical-align: top;\n",
       "    }\n",
       "\n",
       "    .dataframe thead th {\n",
       "        text-align: right;\n",
       "    }\n",
       "</style>\n",
       "<table border=\"1\" class=\"dataframe\">\n",
       "  <thead>\n",
       "    <tr style=\"text-align: right;\">\n",
       "      <th></th>\n",
       "      <th>id</th>\n",
       "      <th>alias</th>\n",
       "      <th>name</th>\n",
       "      <th>image_url</th>\n",
       "      <th>is_closed</th>\n",
       "      <th>url</th>\n",
       "      <th>review_count</th>\n",
       "      <th>categories</th>\n",
       "      <th>rating</th>\n",
       "      <th>transactions</th>\n",
       "      <th>location</th>\n",
       "      <th>phone</th>\n",
       "      <th>display_phone</th>\n",
       "      <th>distance</th>\n",
       "      <th>price</th>\n",
       "      <th>latitude</th>\n",
       "      <th>longitude</th>\n",
       "    </tr>\n",
       "  </thead>\n",
       "  <tbody>\n",
       "    <tr>\n",
       "      <th>0</th>\n",
       "      <td>EwrAoy7XbX8nfemZdDvupA</td>\n",
       "      <td>cornelly-seattle</td>\n",
       "      <td>Cornelly</td>\n",
       "      <td>https://s3-media4.fl.yelpcdn.com/bphoto/HlYYBT...</td>\n",
       "      <td>False</td>\n",
       "      <td>https://www.yelp.com/biz/cornelly-seattle?adju...</td>\n",
       "      <td>101</td>\n",
       "      <td>[{'alias': 'pizza', 'title': 'Pizza'}, {'alias...</td>\n",
       "      <td>4.5</td>\n",
       "      <td>['delivery', 'pickup']</td>\n",
       "      <td>{'address1': '601 Summit Ave E', 'address2': '...</td>\n",
       "      <td>NaN</td>\n",
       "      <td>NaN</td>\n",
       "      <td>2578.701393</td>\n",
       "      <td>NaN</td>\n",
       "      <td>47.624577</td>\n",
       "      <td>-122.325577</td>\n",
       "    </tr>\n",
       "    <tr>\n",
       "      <th>1</th>\n",
       "      <td>FVbwpNA1uZEGiM02N4XtUg</td>\n",
       "      <td>blotto-seattle</td>\n",
       "      <td>Blotto</td>\n",
       "      <td>https://s3-media3.fl.yelpcdn.com/bphoto/Q4Y1Cw...</td>\n",
       "      <td>False</td>\n",
       "      <td>https://www.yelp.com/biz/blotto-seattle?adjust...</td>\n",
       "      <td>40</td>\n",
       "      <td>[{'alias': 'pizza', 'title': 'Pizza'}]</td>\n",
       "      <td>4.5</td>\n",
       "      <td>[]</td>\n",
       "      <td>{'address1': '1830 12th Ave', 'address2': '', ...</td>\n",
       "      <td>1.206403e+10</td>\n",
       "      <td>(206) 403-1809</td>\n",
       "      <td>1686.862176</td>\n",
       "      <td>NaN</td>\n",
       "      <td>47.618490</td>\n",
       "      <td>-122.316640</td>\n",
       "    </tr>\n",
       "  </tbody>\n",
       "</table>\n",
       "</div>"
      ],
      "text/plain": [
       "                       id             alias      name  \\\n",
       "0  EwrAoy7XbX8nfemZdDvupA  cornelly-seattle  Cornelly   \n",
       "1  FVbwpNA1uZEGiM02N4XtUg    blotto-seattle    Blotto   \n",
       "\n",
       "                                           image_url  is_closed  \\\n",
       "0  https://s3-media4.fl.yelpcdn.com/bphoto/HlYYBT...      False   \n",
       "1  https://s3-media3.fl.yelpcdn.com/bphoto/Q4Y1Cw...      False   \n",
       "\n",
       "                                                 url  review_count  \\\n",
       "0  https://www.yelp.com/biz/cornelly-seattle?adju...           101   \n",
       "1  https://www.yelp.com/biz/blotto-seattle?adjust...            40   \n",
       "\n",
       "                                          categories  rating  \\\n",
       "0  [{'alias': 'pizza', 'title': 'Pizza'}, {'alias...     4.5   \n",
       "1             [{'alias': 'pizza', 'title': 'Pizza'}]     4.5   \n",
       "\n",
       "             transactions                                           location  \\\n",
       "0  ['delivery', 'pickup']  {'address1': '601 Summit Ave E', 'address2': '...   \n",
       "1                      []  {'address1': '1830 12th Ave', 'address2': '', ...   \n",
       "\n",
       "          phone   display_phone     distance price   latitude   longitude  \n",
       "0           NaN             NaN  2578.701393   NaN  47.624577 -122.325577  \n",
       "1  1.206403e+10  (206) 403-1809  1686.862176   NaN  47.618490 -122.316640  "
      ]
     },
     "execution_count": 16,
     "metadata": {},
     "output_type": "execute_result"
    }
   ],
   "source": [
    "## Concatenate the 2 new columns and drop the original.\n",
    "df = pd.concat([df, df['coordinates'].apply(pd.Series)], axis = 1)\n",
    "df = df.drop(columns = 'coordinates')\n",
    "df.head(2)"
   ]
  },
  {
   "cell_type": "markdown",
   "id": "56b25f7a",
   "metadata": {},
   "source": [
    "## Creating a Simple Map"
   ]
  },
  {
   "cell_type": "markdown",
   "id": "cd5bc110",
   "metadata": {},
   "source": [
    "### Register for MapBox API"
   ]
  },
  {
   "cell_type": "markdown",
   "id": "73c91d8f",
   "metadata": {},
   "source": [
    "Mapbox API: https://www.mapbox.com/"
   ]
  },
  {
   "cell_type": "code",
   "execution_count": null,
   "id": "2e9b4e94",
   "metadata": {},
   "outputs": [],
   "source": [
    "## Load in mapbox api credentials from .secret\n",
    "with open('/Users/yawagipong/.secret/mapbox.json') as f:\n",
    "    login = json.load(f)\n",
    "\n",
    "login.keys()"
   ]
  },
  {
   "cell_type": "markdown",
   "id": "cdb5689c",
   "metadata": {},
   "source": [
    "- Use the plotly express `set_maptbox_acccess_token` function"
   ]
  },
  {
   "cell_type": "code",
   "execution_count": null,
   "id": "7bf3a1c1",
   "metadata": {},
   "outputs": [],
   "source": [
    "## set mapbox token\n",
    "px.set_mapbox_access_token(login['api-key'])"
   ]
  },
  {
   "cell_type": "code",
   "execution_count": null,
   "id": "2214befe",
   "metadata": {},
   "outputs": [],
   "source": [
    "## use scatter_mapbox for M.V.P map\n",
    "px.scatter_mapbox(df, lat = 'latitude', lon = 'longitude', mapbox_style = 'open-street-map', hover_name = 'name',\n",
    "                 hover_data = ['price', 'rating', 'location'])"
   ]
  },
  {
   "cell_type": "markdown",
   "id": "d5b72ef0",
   "metadata": {},
   "source": [
    "### Adding Hover Data"
   ]
  },
  {
   "cell_type": "markdown",
   "id": "300eddca",
   "metadata": {},
   "source": [
    "- We want to show the restaurants:\n",
    "    - name\n",
    "    - price range\n",
    "    - address\n",
    "    - and if they do delivery or takeout.\n",
    "    \n",
    "    \n",
    "- We can use the `hover_name` and `hover_data` arguments for `px.scatter_mapbox` to add this info!"
   ]
  },
  {
   "cell_type": "code",
   "execution_count": null,
   "id": "46a7ef9e",
   "metadata": {},
   "outputs": [],
   "source": []
  },
  {
   "cell_type": "code",
   "execution_count": null,
   "id": "e05e4e1b",
   "metadata": {
    "scrolled": true
   },
   "outputs": [],
   "source": [
    "## add hover_name (name) and hover_data for price,rating,location\n"
   ]
  },
  {
   "cell_type": "markdown",
   "id": "09d744ca",
   "metadata": {},
   "source": [
    "### Fixing the Location Column"
   ]
  },
  {
   "cell_type": "code",
   "execution_count": 17,
   "id": "15e6afdc",
   "metadata": {},
   "outputs": [
    {
     "data": {
      "text/plain": [
       "\"{'address1': '601 Summit Ave E', 'address2': '', 'address3': None, 'city': 'Seattle', 'zip_code': '98102', 'country': 'US', 'state': 'WA', 'display_address': ['601 Summit Ave E', 'Seattle, WA 98102']}\""
      ]
     },
     "execution_count": 17,
     "metadata": {},
     "output_type": "execute_result"
    }
   ],
   "source": [
    "## slice out a test address\n",
    "test_addr = df.loc[0, 'location']\n",
    "test_addr"
   ]
  },
  {
   "cell_type": "markdown",
   "id": "b573de0f",
   "metadata": {},
   "source": [
    "> Also a string-dictionary..."
   ]
  },
  {
   "cell_type": "code",
   "execution_count": 18,
   "id": "e5862a23",
   "metadata": {},
   "outputs": [
    {
     "data": {
      "text/html": [
       "<div>\n",
       "<style scoped>\n",
       "    .dataframe tbody tr th:only-of-type {\n",
       "        vertical-align: middle;\n",
       "    }\n",
       "\n",
       "    .dataframe tbody tr th {\n",
       "        vertical-align: top;\n",
       "    }\n",
       "\n",
       "    .dataframe thead th {\n",
       "        text-align: right;\n",
       "    }\n",
       "</style>\n",
       "<table border=\"1\" class=\"dataframe\">\n",
       "  <thead>\n",
       "    <tr style=\"text-align: right;\">\n",
       "      <th></th>\n",
       "      <th>id</th>\n",
       "      <th>alias</th>\n",
       "      <th>name</th>\n",
       "      <th>image_url</th>\n",
       "      <th>is_closed</th>\n",
       "      <th>url</th>\n",
       "      <th>review_count</th>\n",
       "      <th>categories</th>\n",
       "      <th>rating</th>\n",
       "      <th>transactions</th>\n",
       "      <th>location</th>\n",
       "      <th>phone</th>\n",
       "      <th>display_phone</th>\n",
       "      <th>distance</th>\n",
       "      <th>price</th>\n",
       "      <th>latitude</th>\n",
       "      <th>longitude</th>\n",
       "    </tr>\n",
       "  </thead>\n",
       "  <tbody>\n",
       "    <tr>\n",
       "      <th>0</th>\n",
       "      <td>EwrAoy7XbX8nfemZdDvupA</td>\n",
       "      <td>cornelly-seattle</td>\n",
       "      <td>Cornelly</td>\n",
       "      <td>https://s3-media4.fl.yelpcdn.com/bphoto/HlYYBT...</td>\n",
       "      <td>False</td>\n",
       "      <td>https://www.yelp.com/biz/cornelly-seattle?adju...</td>\n",
       "      <td>101</td>\n",
       "      <td>[{'alias': 'pizza', 'title': 'Pizza'}, {'alias...</td>\n",
       "      <td>4.5</td>\n",
       "      <td>['delivery', 'pickup']</td>\n",
       "      <td>{\"address1\": \"601 Summit Ave E\", \"address2\": \"...</td>\n",
       "      <td>NaN</td>\n",
       "      <td>NaN</td>\n",
       "      <td>2578.701393</td>\n",
       "      <td>NaN</td>\n",
       "      <td>47.624577</td>\n",
       "      <td>-122.325577</td>\n",
       "    </tr>\n",
       "    <tr>\n",
       "      <th>1</th>\n",
       "      <td>FVbwpNA1uZEGiM02N4XtUg</td>\n",
       "      <td>blotto-seattle</td>\n",
       "      <td>Blotto</td>\n",
       "      <td>https://s3-media3.fl.yelpcdn.com/bphoto/Q4Y1Cw...</td>\n",
       "      <td>False</td>\n",
       "      <td>https://www.yelp.com/biz/blotto-seattle?adjust...</td>\n",
       "      <td>40</td>\n",
       "      <td>[{'alias': 'pizza', 'title': 'Pizza'}]</td>\n",
       "      <td>4.5</td>\n",
       "      <td>[]</td>\n",
       "      <td>{\"address1\": \"1830 12th Ave\", \"address2\": \"\", ...</td>\n",
       "      <td>1.206403e+10</td>\n",
       "      <td>(206) 403-1809</td>\n",
       "      <td>1686.862176</td>\n",
       "      <td>NaN</td>\n",
       "      <td>47.618490</td>\n",
       "      <td>-122.316640</td>\n",
       "    </tr>\n",
       "    <tr>\n",
       "      <th>2</th>\n",
       "      <td>fxyHWmfzcdjImgQ_UYHoTw</td>\n",
       "      <td>bar-cotto-seattle</td>\n",
       "      <td>Bar Cotto</td>\n",
       "      <td>https://s3-media3.fl.yelpcdn.com/bphoto/07DoPF...</td>\n",
       "      <td>False</td>\n",
       "      <td>https://www.yelp.com/biz/bar-cotto-seattle?adj...</td>\n",
       "      <td>343</td>\n",
       "      <td>[{'alias': 'bars', 'title': 'Bars'}, {'alias':...</td>\n",
       "      <td>4.5</td>\n",
       "      <td>['delivery', 'pickup']</td>\n",
       "      <td>{\"address1\": \"1546 15th Ave\", \"address2\": \"\", ...</td>\n",
       "      <td>1.206839e+10</td>\n",
       "      <td>(206) 838-8081</td>\n",
       "      <td>1292.526796</td>\n",
       "      <td>$$</td>\n",
       "      <td>47.614693</td>\n",
       "      <td>-122.312764</td>\n",
       "    </tr>\n",
       "    <tr>\n",
       "      <th>3</th>\n",
       "      <td>IrohtoYjnAR_vc6w6CRCxA</td>\n",
       "      <td>moto-seattle</td>\n",
       "      <td>Moto</td>\n",
       "      <td>https://s3-media2.fl.yelpcdn.com/bphoto/FBmvjy...</td>\n",
       "      <td>False</td>\n",
       "      <td>https://www.yelp.com/biz/moto-seattle?adjust_c...</td>\n",
       "      <td>143</td>\n",
       "      <td>[{'alias': 'pizza', 'title': 'Pizza'}, {'alias...</td>\n",
       "      <td>4.5</td>\n",
       "      <td>['delivery']</td>\n",
       "      <td>{\"address1\": \"4526 42nd Ave SW\", \"address2\": \"...</td>\n",
       "      <td>1.206421e+10</td>\n",
       "      <td>(206) 420-8880</td>\n",
       "      <td>8784.075722</td>\n",
       "      <td>$$</td>\n",
       "      <td>47.562070</td>\n",
       "      <td>-122.385090</td>\n",
       "    </tr>\n",
       "    <tr>\n",
       "      <th>4</th>\n",
       "      <td>Wi6LFkjIausYj277ru6pqg</td>\n",
       "      <td>humble-pie-seattle</td>\n",
       "      <td>Humble Pie</td>\n",
       "      <td>https://s3-media4.fl.yelpcdn.com/bphoto/A08GOZ...</td>\n",
       "      <td>False</td>\n",
       "      <td>https://www.yelp.com/biz/humble-pie-seattle?ad...</td>\n",
       "      <td>362</td>\n",
       "      <td>[{'alias': 'pizza', 'title': 'Pizza'}]</td>\n",
       "      <td>4.0</td>\n",
       "      <td>['delivery']</td>\n",
       "      <td>{\"address1\": \"525 Rainier Ave S\", \"address2\": ...</td>\n",
       "      <td>1.206330e+10</td>\n",
       "      <td>(206) 329-5133</td>\n",
       "      <td>2166.834011</td>\n",
       "      <td>$$</td>\n",
       "      <td>47.597649</td>\n",
       "      <td>-122.313306</td>\n",
       "    </tr>\n",
       "    <tr>\n",
       "      <th>...</th>\n",
       "      <td>...</td>\n",
       "      <td>...</td>\n",
       "      <td>...</td>\n",
       "      <td>...</td>\n",
       "      <td>...</td>\n",
       "      <td>...</td>\n",
       "      <td>...</td>\n",
       "      <td>...</td>\n",
       "      <td>...</td>\n",
       "      <td>...</td>\n",
       "      <td>...</td>\n",
       "      <td>...</td>\n",
       "      <td>...</td>\n",
       "      <td>...</td>\n",
       "      <td>...</td>\n",
       "      <td>...</td>\n",
       "      <td>...</td>\n",
       "    </tr>\n",
       "    <tr>\n",
       "      <th>850</th>\n",
       "      <td>rcDbUcs83gvoRxhaTmFfnQ</td>\n",
       "      <td>cypress-lounge-and-wine-bar-bellevue</td>\n",
       "      <td>Cypress Lounge &amp; Wine Bar</td>\n",
       "      <td>https://s3-media2.fl.yelpcdn.com/bphoto/DsFhIb...</td>\n",
       "      <td>False</td>\n",
       "      <td>https://www.yelp.com/biz/cypress-lounge-and-wi...</td>\n",
       "      <td>68</td>\n",
       "      <td>[{'alias': 'wine_bars', 'title': 'Wine Bars'},...</td>\n",
       "      <td>3.5</td>\n",
       "      <td>[]</td>\n",
       "      <td>{\"address1\": \"600 Bellevue Way NE\", \"address2\"...</td>\n",
       "      <td>1.425638e+10</td>\n",
       "      <td>(425) 638-1000</td>\n",
       "      <td>7123.208902</td>\n",
       "      <td>$$</td>\n",
       "      <td>47.615703</td>\n",
       "      <td>-122.200735</td>\n",
       "    </tr>\n",
       "    <tr>\n",
       "      <th>851</th>\n",
       "      <td>H_gsS9J920u_hK7jekobqw</td>\n",
       "      <td>suite-bellevue-4</td>\n",
       "      <td>Suite</td>\n",
       "      <td>https://s3-media1.fl.yelpcdn.com/bphoto/jdYMfv...</td>\n",
       "      <td>False</td>\n",
       "      <td>https://www.yelp.com/biz/suite-bellevue-4?adju...</td>\n",
       "      <td>232</td>\n",
       "      <td>[{'alias': 'lounges', 'title': 'Lounges'}, {'a...</td>\n",
       "      <td>3.0</td>\n",
       "      <td>['delivery']</td>\n",
       "      <td>{\"address1\": \"10500 NE 8th St\", \"address2\": \"S...</td>\n",
       "      <td>1.425680e+10</td>\n",
       "      <td>(425) 679-6951</td>\n",
       "      <td>7158.825860</td>\n",
       "      <td>$$</td>\n",
       "      <td>47.617996</td>\n",
       "      <td>-122.200456</td>\n",
       "    </tr>\n",
       "    <tr>\n",
       "      <th>852</th>\n",
       "      <td>AsgtzyqpdjuPyjaEUVcUXA</td>\n",
       "      <td>jewel-of-india-seattle-3</td>\n",
       "      <td>Jewel Of India</td>\n",
       "      <td>https://s3-media2.fl.yelpcdn.com/bphoto/qJGMnl...</td>\n",
       "      <td>False</td>\n",
       "      <td>https://www.yelp.com/biz/jewel-of-india-seattl...</td>\n",
       "      <td>411</td>\n",
       "      <td>[{'alias': 'indpak', 'title': 'Indian'}]</td>\n",
       "      <td>3.5</td>\n",
       "      <td>['pickup', 'delivery']</td>\n",
       "      <td>{\"address1\": \"4735 University Way NE\", \"addres...</td>\n",
       "      <td>1.206524e+10</td>\n",
       "      <td>(206) 523-5275</td>\n",
       "      <td>5825.461180</td>\n",
       "      <td>$$</td>\n",
       "      <td>47.664103</td>\n",
       "      <td>-122.313426</td>\n",
       "    </tr>\n",
       "    <tr>\n",
       "      <th>853</th>\n",
       "      <td>oniQ68t6VR1naVtUXmfETQ</td>\n",
       "      <td>pokeworks-bellevue-2</td>\n",
       "      <td>Pokeworks</td>\n",
       "      <td>https://s3-media1.fl.yelpcdn.com/bphoto/DqSOK8...</td>\n",
       "      <td>False</td>\n",
       "      <td>https://www.yelp.com/biz/pokeworks-bellevue-2?...</td>\n",
       "      <td>284</td>\n",
       "      <td>[{'alias': 'poke', 'title': 'Poke'}, {'alias':...</td>\n",
       "      <td>4.0</td>\n",
       "      <td>['pickup', 'delivery']</td>\n",
       "      <td>{\"address1\": \"222 Bellevue Way NE\", \"address2\"...</td>\n",
       "      <td>1.425214e+10</td>\n",
       "      <td>(425) 214-1182</td>\n",
       "      <td>7072.982860</td>\n",
       "      <td>$$</td>\n",
       "      <td>47.612521</td>\n",
       "      <td>-122.201333</td>\n",
       "    </tr>\n",
       "    <tr>\n",
       "      <th>854</th>\n",
       "      <td>i8mygke4ckycOudTO_3UQQ</td>\n",
       "      <td>café-cesura-bellevue-4</td>\n",
       "      <td>Café Cesura</td>\n",
       "      <td>https://s3-media4.fl.yelpcdn.com/bphoto/uEiPxA...</td>\n",
       "      <td>False</td>\n",
       "      <td>https://www.yelp.com/biz/caf%C3%A9-cesura-bell...</td>\n",
       "      <td>552</td>\n",
       "      <td>[{'alias': 'coffee', 'title': 'Coffee &amp; Tea'},...</td>\n",
       "      <td>3.5</td>\n",
       "      <td>['delivery']</td>\n",
       "      <td>{\"address1\": \"1015 108th Ave NE\", \"address2\": ...</td>\n",
       "      <td>1.425955e+10</td>\n",
       "      <td>(425) 954-7277</td>\n",
       "      <td>7466.233853</td>\n",
       "      <td>$</td>\n",
       "      <td>47.619646</td>\n",
       "      <td>-122.196551</td>\n",
       "    </tr>\n",
       "  </tbody>\n",
       "</table>\n",
       "<p>855 rows × 17 columns</p>\n",
       "</div>"
      ],
      "text/plain": [
       "                         id                                 alias  \\\n",
       "0    EwrAoy7XbX8nfemZdDvupA                      cornelly-seattle   \n",
       "1    FVbwpNA1uZEGiM02N4XtUg                        blotto-seattle   \n",
       "2    fxyHWmfzcdjImgQ_UYHoTw                     bar-cotto-seattle   \n",
       "3    IrohtoYjnAR_vc6w6CRCxA                          moto-seattle   \n",
       "4    Wi6LFkjIausYj277ru6pqg                    humble-pie-seattle   \n",
       "..                      ...                                   ...   \n",
       "850  rcDbUcs83gvoRxhaTmFfnQ  cypress-lounge-and-wine-bar-bellevue   \n",
       "851  H_gsS9J920u_hK7jekobqw                      suite-bellevue-4   \n",
       "852  AsgtzyqpdjuPyjaEUVcUXA              jewel-of-india-seattle-3   \n",
       "853  oniQ68t6VR1naVtUXmfETQ                  pokeworks-bellevue-2   \n",
       "854  i8mygke4ckycOudTO_3UQQ                café-cesura-bellevue-4   \n",
       "\n",
       "                          name  \\\n",
       "0                     Cornelly   \n",
       "1                       Blotto   \n",
       "2                    Bar Cotto   \n",
       "3                         Moto   \n",
       "4                   Humble Pie   \n",
       "..                         ...   \n",
       "850  Cypress Lounge & Wine Bar   \n",
       "851                      Suite   \n",
       "852             Jewel Of India   \n",
       "853                  Pokeworks   \n",
       "854                Café Cesura   \n",
       "\n",
       "                                             image_url  is_closed  \\\n",
       "0    https://s3-media4.fl.yelpcdn.com/bphoto/HlYYBT...      False   \n",
       "1    https://s3-media3.fl.yelpcdn.com/bphoto/Q4Y1Cw...      False   \n",
       "2    https://s3-media3.fl.yelpcdn.com/bphoto/07DoPF...      False   \n",
       "3    https://s3-media2.fl.yelpcdn.com/bphoto/FBmvjy...      False   \n",
       "4    https://s3-media4.fl.yelpcdn.com/bphoto/A08GOZ...      False   \n",
       "..                                                 ...        ...   \n",
       "850  https://s3-media2.fl.yelpcdn.com/bphoto/DsFhIb...      False   \n",
       "851  https://s3-media1.fl.yelpcdn.com/bphoto/jdYMfv...      False   \n",
       "852  https://s3-media2.fl.yelpcdn.com/bphoto/qJGMnl...      False   \n",
       "853  https://s3-media1.fl.yelpcdn.com/bphoto/DqSOK8...      False   \n",
       "854  https://s3-media4.fl.yelpcdn.com/bphoto/uEiPxA...      False   \n",
       "\n",
       "                                                   url  review_count  \\\n",
       "0    https://www.yelp.com/biz/cornelly-seattle?adju...           101   \n",
       "1    https://www.yelp.com/biz/blotto-seattle?adjust...            40   \n",
       "2    https://www.yelp.com/biz/bar-cotto-seattle?adj...           343   \n",
       "3    https://www.yelp.com/biz/moto-seattle?adjust_c...           143   \n",
       "4    https://www.yelp.com/biz/humble-pie-seattle?ad...           362   \n",
       "..                                                 ...           ...   \n",
       "850  https://www.yelp.com/biz/cypress-lounge-and-wi...            68   \n",
       "851  https://www.yelp.com/biz/suite-bellevue-4?adju...           232   \n",
       "852  https://www.yelp.com/biz/jewel-of-india-seattl...           411   \n",
       "853  https://www.yelp.com/biz/pokeworks-bellevue-2?...           284   \n",
       "854  https://www.yelp.com/biz/caf%C3%A9-cesura-bell...           552   \n",
       "\n",
       "                                            categories  rating  \\\n",
       "0    [{'alias': 'pizza', 'title': 'Pizza'}, {'alias...     4.5   \n",
       "1               [{'alias': 'pizza', 'title': 'Pizza'}]     4.5   \n",
       "2    [{'alias': 'bars', 'title': 'Bars'}, {'alias':...     4.5   \n",
       "3    [{'alias': 'pizza', 'title': 'Pizza'}, {'alias...     4.5   \n",
       "4               [{'alias': 'pizza', 'title': 'Pizza'}]     4.0   \n",
       "..                                                 ...     ...   \n",
       "850  [{'alias': 'wine_bars', 'title': 'Wine Bars'},...     3.5   \n",
       "851  [{'alias': 'lounges', 'title': 'Lounges'}, {'a...     3.0   \n",
       "852           [{'alias': 'indpak', 'title': 'Indian'}]     3.5   \n",
       "853  [{'alias': 'poke', 'title': 'Poke'}, {'alias':...     4.0   \n",
       "854  [{'alias': 'coffee', 'title': 'Coffee & Tea'},...     3.5   \n",
       "\n",
       "               transactions  \\\n",
       "0    ['delivery', 'pickup']   \n",
       "1                        []   \n",
       "2    ['delivery', 'pickup']   \n",
       "3              ['delivery']   \n",
       "4              ['delivery']   \n",
       "..                      ...   \n",
       "850                      []   \n",
       "851            ['delivery']   \n",
       "852  ['pickup', 'delivery']   \n",
       "853  ['pickup', 'delivery']   \n",
       "854            ['delivery']   \n",
       "\n",
       "                                              location         phone  \\\n",
       "0    {\"address1\": \"601 Summit Ave E\", \"address2\": \"...           NaN   \n",
       "1    {\"address1\": \"1830 12th Ave\", \"address2\": \"\", ...  1.206403e+10   \n",
       "2    {\"address1\": \"1546 15th Ave\", \"address2\": \"\", ...  1.206839e+10   \n",
       "3    {\"address1\": \"4526 42nd Ave SW\", \"address2\": \"...  1.206421e+10   \n",
       "4    {\"address1\": \"525 Rainier Ave S\", \"address2\": ...  1.206330e+10   \n",
       "..                                                 ...           ...   \n",
       "850  {\"address1\": \"600 Bellevue Way NE\", \"address2\"...  1.425638e+10   \n",
       "851  {\"address1\": \"10500 NE 8th St\", \"address2\": \"S...  1.425680e+10   \n",
       "852  {\"address1\": \"4735 University Way NE\", \"addres...  1.206524e+10   \n",
       "853  {\"address1\": \"222 Bellevue Way NE\", \"address2\"...  1.425214e+10   \n",
       "854  {\"address1\": \"1015 108th Ave NE\", \"address2\": ...  1.425955e+10   \n",
       "\n",
       "      display_phone     distance price   latitude   longitude  \n",
       "0               NaN  2578.701393   NaN  47.624577 -122.325577  \n",
       "1    (206) 403-1809  1686.862176   NaN  47.618490 -122.316640  \n",
       "2    (206) 838-8081  1292.526796    $$  47.614693 -122.312764  \n",
       "3    (206) 420-8880  8784.075722    $$  47.562070 -122.385090  \n",
       "4    (206) 329-5133  2166.834011    $$  47.597649 -122.313306  \n",
       "..              ...          ...   ...        ...         ...  \n",
       "850  (425) 638-1000  7123.208902    $$  47.615703 -122.200735  \n",
       "851  (425) 679-6951  7158.825860    $$  47.617996 -122.200456  \n",
       "852  (206) 523-5275  5825.461180    $$  47.664103 -122.313426  \n",
       "853  (425) 214-1182  7072.982860    $$  47.612521 -122.201333  \n",
       "854  (425) 954-7277  7466.233853     $  47.619646 -122.196551  \n",
       "\n",
       "[855 rows x 17 columns]"
      ]
     },
     "execution_count": 18,
     "metadata": {},
     "output_type": "execute_result"
    }
   ],
   "source": [
    "## replace ' with \"\n",
    "df['location'] = df['location'].str.replace(\"'\", '\"')\n",
    "df"
   ]
  },
  {
   "cell_type": "code",
   "execution_count": 19,
   "id": "1606ed4a",
   "metadata": {},
   "outputs": [
    {
     "ename": "JSONDecodeError",
     "evalue": "Expecting value: line 1 column 62 (char 61)",
     "output_type": "error",
     "traceback": [
      "\u001b[0;31m---------------------------------------------------------------------------\u001b[0m",
      "\u001b[0;31mJSONDecodeError\u001b[0m                           Traceback (most recent call last)",
      "Cell \u001b[0;32mIn [19], line 2\u001b[0m\n\u001b[1;32m      1\u001b[0m \u001b[38;5;66;03m## apply json.loads\u001b[39;00m\n\u001b[0;32m----> 2\u001b[0m df[\u001b[38;5;124m'\u001b[39m\u001b[38;5;124mlocation\u001b[39m\u001b[38;5;124m'\u001b[39m] \u001b[38;5;241m=\u001b[39m \u001b[43mdf\u001b[49m\u001b[43m[\u001b[49m\u001b[38;5;124;43m'\u001b[39;49m\u001b[38;5;124;43mlocation\u001b[39;49m\u001b[38;5;124;43m'\u001b[39;49m\u001b[43m]\u001b[49m\u001b[38;5;241;43m.\u001b[39;49m\u001b[43mapply\u001b[49m\u001b[43m(\u001b[49m\u001b[43mjson\u001b[49m\u001b[38;5;241;43m.\u001b[39;49m\u001b[43mloads\u001b[49m\u001b[43m)\u001b[49m\n\u001b[1;32m      3\u001b[0m df\n",
      "File \u001b[0;32m/opt/homebrew/Caskroom/miniforge/base/envs/dojo-env/lib/python3.9/site-packages/pandas/core/series.py:4771\u001b[0m, in \u001b[0;36mSeries.apply\u001b[0;34m(self, func, convert_dtype, args, **kwargs)\u001b[0m\n\u001b[1;32m   4661\u001b[0m \u001b[38;5;28;01mdef\u001b[39;00m \u001b[38;5;21mapply\u001b[39m(\n\u001b[1;32m   4662\u001b[0m     \u001b[38;5;28mself\u001b[39m,\n\u001b[1;32m   4663\u001b[0m     func: AggFuncType,\n\u001b[0;32m   (...)\u001b[0m\n\u001b[1;32m   4666\u001b[0m     \u001b[38;5;241m*\u001b[39m\u001b[38;5;241m*\u001b[39mkwargs,\n\u001b[1;32m   4667\u001b[0m ) \u001b[38;5;241m-\u001b[39m\u001b[38;5;241m>\u001b[39m DataFrame \u001b[38;5;241m|\u001b[39m Series:\n\u001b[1;32m   4668\u001b[0m     \u001b[38;5;124;03m\"\"\"\u001b[39;00m\n\u001b[1;32m   4669\u001b[0m \u001b[38;5;124;03m    Invoke function on values of Series.\u001b[39;00m\n\u001b[1;32m   4670\u001b[0m \n\u001b[0;32m   (...)\u001b[0m\n\u001b[1;32m   4769\u001b[0m \u001b[38;5;124;03m    dtype: float64\u001b[39;00m\n\u001b[1;32m   4770\u001b[0m \u001b[38;5;124;03m    \"\"\"\u001b[39;00m\n\u001b[0;32m-> 4771\u001b[0m     \u001b[38;5;28;01mreturn\u001b[39;00m \u001b[43mSeriesApply\u001b[49m\u001b[43m(\u001b[49m\u001b[38;5;28;43mself\u001b[39;49m\u001b[43m,\u001b[49m\u001b[43m \u001b[49m\u001b[43mfunc\u001b[49m\u001b[43m,\u001b[49m\u001b[43m \u001b[49m\u001b[43mconvert_dtype\u001b[49m\u001b[43m,\u001b[49m\u001b[43m \u001b[49m\u001b[43margs\u001b[49m\u001b[43m,\u001b[49m\u001b[43m \u001b[49m\u001b[43mkwargs\u001b[49m\u001b[43m)\u001b[49m\u001b[38;5;241;43m.\u001b[39;49m\u001b[43mapply\u001b[49m\u001b[43m(\u001b[49m\u001b[43m)\u001b[49m\n",
      "File \u001b[0;32m/opt/homebrew/Caskroom/miniforge/base/envs/dojo-env/lib/python3.9/site-packages/pandas/core/apply.py:1105\u001b[0m, in \u001b[0;36mSeriesApply.apply\u001b[0;34m(self)\u001b[0m\n\u001b[1;32m   1102\u001b[0m     \u001b[38;5;28;01mreturn\u001b[39;00m \u001b[38;5;28mself\u001b[39m\u001b[38;5;241m.\u001b[39mapply_str()\n\u001b[1;32m   1104\u001b[0m \u001b[38;5;66;03m# self.f is Callable\u001b[39;00m\n\u001b[0;32m-> 1105\u001b[0m \u001b[38;5;28;01mreturn\u001b[39;00m \u001b[38;5;28;43mself\u001b[39;49m\u001b[38;5;241;43m.\u001b[39;49m\u001b[43mapply_standard\u001b[49m\u001b[43m(\u001b[49m\u001b[43m)\u001b[49m\n",
      "File \u001b[0;32m/opt/homebrew/Caskroom/miniforge/base/envs/dojo-env/lib/python3.9/site-packages/pandas/core/apply.py:1156\u001b[0m, in \u001b[0;36mSeriesApply.apply_standard\u001b[0;34m(self)\u001b[0m\n\u001b[1;32m   1154\u001b[0m     \u001b[38;5;28;01melse\u001b[39;00m:\n\u001b[1;32m   1155\u001b[0m         values \u001b[38;5;241m=\u001b[39m obj\u001b[38;5;241m.\u001b[39mastype(\u001b[38;5;28mobject\u001b[39m)\u001b[38;5;241m.\u001b[39m_values\n\u001b[0;32m-> 1156\u001b[0m         mapped \u001b[38;5;241m=\u001b[39m \u001b[43mlib\u001b[49m\u001b[38;5;241;43m.\u001b[39;49m\u001b[43mmap_infer\u001b[49m\u001b[43m(\u001b[49m\n\u001b[1;32m   1157\u001b[0m \u001b[43m            \u001b[49m\u001b[43mvalues\u001b[49m\u001b[43m,\u001b[49m\n\u001b[1;32m   1158\u001b[0m \u001b[43m            \u001b[49m\u001b[43mf\u001b[49m\u001b[43m,\u001b[49m\n\u001b[1;32m   1159\u001b[0m \u001b[43m            \u001b[49m\u001b[43mconvert\u001b[49m\u001b[38;5;241;43m=\u001b[39;49m\u001b[38;5;28;43mself\u001b[39;49m\u001b[38;5;241;43m.\u001b[39;49m\u001b[43mconvert_dtype\u001b[49m\u001b[43m,\u001b[49m\n\u001b[1;32m   1160\u001b[0m \u001b[43m        \u001b[49m\u001b[43m)\u001b[49m\n\u001b[1;32m   1162\u001b[0m \u001b[38;5;28;01mif\u001b[39;00m \u001b[38;5;28mlen\u001b[39m(mapped) \u001b[38;5;129;01mand\u001b[39;00m \u001b[38;5;28misinstance\u001b[39m(mapped[\u001b[38;5;241m0\u001b[39m], ABCSeries):\n\u001b[1;32m   1163\u001b[0m     \u001b[38;5;66;03m# GH#43986 Need to do list(mapped) in order to get treated as nested\u001b[39;00m\n\u001b[1;32m   1164\u001b[0m     \u001b[38;5;66;03m#  See also GH#25959 regarding EA support\u001b[39;00m\n\u001b[1;32m   1165\u001b[0m     \u001b[38;5;28;01mreturn\u001b[39;00m obj\u001b[38;5;241m.\u001b[39m_constructor_expanddim(\u001b[38;5;28mlist\u001b[39m(mapped), index\u001b[38;5;241m=\u001b[39mobj\u001b[38;5;241m.\u001b[39mindex)\n",
      "File \u001b[0;32m/opt/homebrew/Caskroom/miniforge/base/envs/dojo-env/lib/python3.9/site-packages/pandas/_libs/lib.pyx:2918\u001b[0m, in \u001b[0;36mpandas._libs.lib.map_infer\u001b[0;34m()\u001b[0m\n",
      "File \u001b[0;32m/opt/homebrew/Caskroom/miniforge/base/envs/dojo-env/lib/python3.9/json/__init__.py:346\u001b[0m, in \u001b[0;36mloads\u001b[0;34m(s, cls, object_hook, parse_float, parse_int, parse_constant, object_pairs_hook, **kw)\u001b[0m\n\u001b[1;32m    341\u001b[0m     s \u001b[38;5;241m=\u001b[39m s\u001b[38;5;241m.\u001b[39mdecode(detect_encoding(s), \u001b[38;5;124m'\u001b[39m\u001b[38;5;124msurrogatepass\u001b[39m\u001b[38;5;124m'\u001b[39m)\n\u001b[1;32m    343\u001b[0m \u001b[38;5;28;01mif\u001b[39;00m (\u001b[38;5;28mcls\u001b[39m \u001b[38;5;129;01mis\u001b[39;00m \u001b[38;5;28;01mNone\u001b[39;00m \u001b[38;5;129;01mand\u001b[39;00m object_hook \u001b[38;5;129;01mis\u001b[39;00m \u001b[38;5;28;01mNone\u001b[39;00m \u001b[38;5;129;01mand\u001b[39;00m\n\u001b[1;32m    344\u001b[0m         parse_int \u001b[38;5;129;01mis\u001b[39;00m \u001b[38;5;28;01mNone\u001b[39;00m \u001b[38;5;129;01mand\u001b[39;00m parse_float \u001b[38;5;129;01mis\u001b[39;00m \u001b[38;5;28;01mNone\u001b[39;00m \u001b[38;5;129;01mand\u001b[39;00m\n\u001b[1;32m    345\u001b[0m         parse_constant \u001b[38;5;129;01mis\u001b[39;00m \u001b[38;5;28;01mNone\u001b[39;00m \u001b[38;5;129;01mand\u001b[39;00m object_pairs_hook \u001b[38;5;129;01mis\u001b[39;00m \u001b[38;5;28;01mNone\u001b[39;00m \u001b[38;5;129;01mand\u001b[39;00m \u001b[38;5;129;01mnot\u001b[39;00m kw):\n\u001b[0;32m--> 346\u001b[0m     \u001b[38;5;28;01mreturn\u001b[39;00m \u001b[43m_default_decoder\u001b[49m\u001b[38;5;241;43m.\u001b[39;49m\u001b[43mdecode\u001b[49m\u001b[43m(\u001b[49m\u001b[43ms\u001b[49m\u001b[43m)\u001b[49m\n\u001b[1;32m    347\u001b[0m \u001b[38;5;28;01mif\u001b[39;00m \u001b[38;5;28mcls\u001b[39m \u001b[38;5;129;01mis\u001b[39;00m \u001b[38;5;28;01mNone\u001b[39;00m:\n\u001b[1;32m    348\u001b[0m     \u001b[38;5;28mcls\u001b[39m \u001b[38;5;241m=\u001b[39m JSONDecoder\n",
      "File \u001b[0;32m/opt/homebrew/Caskroom/miniforge/base/envs/dojo-env/lib/python3.9/json/decoder.py:337\u001b[0m, in \u001b[0;36mJSONDecoder.decode\u001b[0;34m(self, s, _w)\u001b[0m\n\u001b[1;32m    332\u001b[0m \u001b[38;5;28;01mdef\u001b[39;00m \u001b[38;5;21mdecode\u001b[39m(\u001b[38;5;28mself\u001b[39m, s, _w\u001b[38;5;241m=\u001b[39mWHITESPACE\u001b[38;5;241m.\u001b[39mmatch):\n\u001b[1;32m    333\u001b[0m     \u001b[38;5;124;03m\"\"\"Return the Python representation of ``s`` (a ``str`` instance\u001b[39;00m\n\u001b[1;32m    334\u001b[0m \u001b[38;5;124;03m    containing a JSON document).\u001b[39;00m\n\u001b[1;32m    335\u001b[0m \n\u001b[1;32m    336\u001b[0m \u001b[38;5;124;03m    \"\"\"\u001b[39;00m\n\u001b[0;32m--> 337\u001b[0m     obj, end \u001b[38;5;241m=\u001b[39m \u001b[38;5;28;43mself\u001b[39;49m\u001b[38;5;241;43m.\u001b[39;49m\u001b[43mraw_decode\u001b[49m\u001b[43m(\u001b[49m\u001b[43ms\u001b[49m\u001b[43m,\u001b[49m\u001b[43m \u001b[49m\u001b[43midx\u001b[49m\u001b[38;5;241;43m=\u001b[39;49m\u001b[43m_w\u001b[49m\u001b[43m(\u001b[49m\u001b[43ms\u001b[49m\u001b[43m,\u001b[49m\u001b[43m \u001b[49m\u001b[38;5;241;43m0\u001b[39;49m\u001b[43m)\u001b[49m\u001b[38;5;241;43m.\u001b[39;49m\u001b[43mend\u001b[49m\u001b[43m(\u001b[49m\u001b[43m)\u001b[49m\u001b[43m)\u001b[49m\n\u001b[1;32m    338\u001b[0m     end \u001b[38;5;241m=\u001b[39m _w(s, end)\u001b[38;5;241m.\u001b[39mend()\n\u001b[1;32m    339\u001b[0m     \u001b[38;5;28;01mif\u001b[39;00m end \u001b[38;5;241m!=\u001b[39m \u001b[38;5;28mlen\u001b[39m(s):\n",
      "File \u001b[0;32m/opt/homebrew/Caskroom/miniforge/base/envs/dojo-env/lib/python3.9/json/decoder.py:355\u001b[0m, in \u001b[0;36mJSONDecoder.raw_decode\u001b[0;34m(self, s, idx)\u001b[0m\n\u001b[1;32m    353\u001b[0m     obj, end \u001b[38;5;241m=\u001b[39m \u001b[38;5;28mself\u001b[39m\u001b[38;5;241m.\u001b[39mscan_once(s, idx)\n\u001b[1;32m    354\u001b[0m \u001b[38;5;28;01mexcept\u001b[39;00m \u001b[38;5;167;01mStopIteration\u001b[39;00m \u001b[38;5;28;01mas\u001b[39;00m err:\n\u001b[0;32m--> 355\u001b[0m     \u001b[38;5;28;01mraise\u001b[39;00m JSONDecodeError(\u001b[38;5;124m\"\u001b[39m\u001b[38;5;124mExpecting value\u001b[39m\u001b[38;5;124m\"\u001b[39m, s, err\u001b[38;5;241m.\u001b[39mvalue) \u001b[38;5;28;01mfrom\u001b[39;00m \u001b[38;5;28mNone\u001b[39m\n\u001b[1;32m    356\u001b[0m \u001b[38;5;28;01mreturn\u001b[39;00m obj, end\n",
      "\u001b[0;31mJSONDecodeError\u001b[0m: Expecting value: line 1 column 62 (char 61)"
     ]
    }
   ],
   "source": [
    "## apply json.loads\n",
    "df['location'] = df['location'].apply(json.loads)\n",
    "df"
   ]
  },
  {
   "cell_type": "markdown",
   "id": "6e3fc5c2",
   "metadata": {},
   "source": [
    "> Ruh roh....\n",
    "\n",
    "- Hmm, let's slice out a test_address again and let's write a function to accomplish this instead.\n",
    "    - We can use try and except in our function to get around the errors."
   ]
  },
  {
   "cell_type": "markdown",
   "id": "b0fe3a7a",
   "metadata": {},
   "source": [
    "### Fixing Addresses - with a custom function\n"
   ]
  },
  {
   "cell_type": "code",
   "execution_count": 20,
   "id": "b1964520",
   "metadata": {},
   "outputs": [
    {
     "data": {
      "text/plain": [
       "'{\"address1\": \"601 Summit Ave E\", \"address2\": \"\", \"address3\": None, \"city\": \"Seattle\", \"zip_code\": \"98102\", \"country\": \"US\", \"state\": \"WA\", \"display_address\": [\"601 Summit Ave E\", \"Seattle, WA 98102\"]}'"
      ]
     },
     "execution_count": 20,
     "metadata": {},
     "output_type": "execute_result"
    }
   ],
   "source": [
    "## slice out test address \n",
    "test_addr = df.loc[0, 'location']\n",
    "test_addr"
   ]
  },
  {
   "cell_type": "code",
   "execution_count": 21,
   "id": "89ee686e",
   "metadata": {},
   "outputs": [],
   "source": [
    "## write a function to just run json.loads on the address\n",
    "def fix_address(test_addr):\n",
    "    try:\n",
    "        return json.loads(test_addr)\n",
    "    except:\n",
    "        return 'Error'"
   ]
  },
  {
   "cell_type": "code",
   "execution_count": 22,
   "id": "0d25f01b",
   "metadata": {},
   "outputs": [
    {
     "data": {
      "text/plain": [
       "0                                                  Error\n",
       "1                                                  Error\n",
       "2      {'address1': '1546 15th Ave', 'address2': '', ...\n",
       "3                                                  Error\n",
       "4      {'address1': '525 Rainier Ave S', 'address2': ...\n",
       "                             ...                        \n",
       "850    {'address1': '600 Bellevue Way NE', 'address2'...\n",
       "851    {'address1': '10500 NE 8th St', 'address2': 'S...\n",
       "852                                                Error\n",
       "853                                                Error\n",
       "854                                                Error\n",
       "Name: location, Length: 855, dtype: object"
      ]
     },
     "execution_count": 22,
     "metadata": {},
     "output_type": "execute_result"
    }
   ],
   "source": [
    "## test applying our function\n",
    "df['location'].apply(fix_address)"
   ]
  },
  {
   "cell_type": "markdown",
   "id": "c8cbc436",
   "metadata": {},
   "source": [
    "- It worked! Now let's save this as a new column (display_location),\n",
    "and then let's investigate the businesses that had an \"ERROR\"."
   ]
  },
  {
   "cell_type": "code",
   "execution_count": 23,
   "id": "49a511e8",
   "metadata": {},
   "outputs": [],
   "source": [
    "### save a new display_location column using our function\n",
    "df['display_location'] = df['location'].apply(fix_address)"
   ]
  },
  {
   "cell_type": "code",
   "execution_count": 27,
   "id": "346a2869",
   "metadata": {},
   "outputs": [
    {
     "data": {
      "text/html": [
       "<div>\n",
       "<style scoped>\n",
       "    .dataframe tbody tr th:only-of-type {\n",
       "        vertical-align: middle;\n",
       "    }\n",
       "\n",
       "    .dataframe tbody tr th {\n",
       "        vertical-align: top;\n",
       "    }\n",
       "\n",
       "    .dataframe thead th {\n",
       "        text-align: right;\n",
       "    }\n",
       "</style>\n",
       "<table border=\"1\" class=\"dataframe\">\n",
       "  <thead>\n",
       "    <tr style=\"text-align: right;\">\n",
       "      <th></th>\n",
       "      <th>id</th>\n",
       "      <th>alias</th>\n",
       "      <th>name</th>\n",
       "      <th>image_url</th>\n",
       "      <th>is_closed</th>\n",
       "      <th>url</th>\n",
       "      <th>review_count</th>\n",
       "      <th>categories</th>\n",
       "      <th>rating</th>\n",
       "      <th>transactions</th>\n",
       "      <th>location</th>\n",
       "      <th>phone</th>\n",
       "      <th>display_phone</th>\n",
       "      <th>distance</th>\n",
       "      <th>price</th>\n",
       "      <th>latitude</th>\n",
       "      <th>longitude</th>\n",
       "      <th>display_location</th>\n",
       "    </tr>\n",
       "  </thead>\n",
       "  <tbody>\n",
       "    <tr>\n",
       "      <th>0</th>\n",
       "      <td>EwrAoy7XbX8nfemZdDvupA</td>\n",
       "      <td>cornelly-seattle</td>\n",
       "      <td>Cornelly</td>\n",
       "      <td>https://s3-media4.fl.yelpcdn.com/bphoto/HlYYBT...</td>\n",
       "      <td>False</td>\n",
       "      <td>https://www.yelp.com/biz/cornelly-seattle?adju...</td>\n",
       "      <td>101</td>\n",
       "      <td>[{'alias': 'pizza', 'title': 'Pizza'}, {'alias...</td>\n",
       "      <td>4.5</td>\n",
       "      <td>['delivery', 'pickup']</td>\n",
       "      <td>{\"address1\": \"601 Summit Ave E\", \"address2\": \"...</td>\n",
       "      <td>NaN</td>\n",
       "      <td>NaN</td>\n",
       "      <td>2578.701393</td>\n",
       "      <td>NaN</td>\n",
       "      <td>47.624577</td>\n",
       "      <td>-122.325577</td>\n",
       "      <td>Error</td>\n",
       "    </tr>\n",
       "    <tr>\n",
       "      <th>1</th>\n",
       "      <td>FVbwpNA1uZEGiM02N4XtUg</td>\n",
       "      <td>blotto-seattle</td>\n",
       "      <td>Blotto</td>\n",
       "      <td>https://s3-media3.fl.yelpcdn.com/bphoto/Q4Y1Cw...</td>\n",
       "      <td>False</td>\n",
       "      <td>https://www.yelp.com/biz/blotto-seattle?adjust...</td>\n",
       "      <td>40</td>\n",
       "      <td>[{'alias': 'pizza', 'title': 'Pizza'}]</td>\n",
       "      <td>4.5</td>\n",
       "      <td>[]</td>\n",
       "      <td>{\"address1\": \"1830 12th Ave\", \"address2\": \"\", ...</td>\n",
       "      <td>1.206403e+10</td>\n",
       "      <td>(206) 403-1809</td>\n",
       "      <td>1686.862176</td>\n",
       "      <td>NaN</td>\n",
       "      <td>47.618490</td>\n",
       "      <td>-122.316640</td>\n",
       "      <td>Error</td>\n",
       "    </tr>\n",
       "    <tr>\n",
       "      <th>3</th>\n",
       "      <td>IrohtoYjnAR_vc6w6CRCxA</td>\n",
       "      <td>moto-seattle</td>\n",
       "      <td>Moto</td>\n",
       "      <td>https://s3-media2.fl.yelpcdn.com/bphoto/FBmvjy...</td>\n",
       "      <td>False</td>\n",
       "      <td>https://www.yelp.com/biz/moto-seattle?adjust_c...</td>\n",
       "      <td>143</td>\n",
       "      <td>[{'alias': 'pizza', 'title': 'Pizza'}, {'alias...</td>\n",
       "      <td>4.5</td>\n",
       "      <td>['delivery']</td>\n",
       "      <td>{\"address1\": \"4526 42nd Ave SW\", \"address2\": \"...</td>\n",
       "      <td>1.206421e+10</td>\n",
       "      <td>(206) 420-8880</td>\n",
       "      <td>8784.075722</td>\n",
       "      <td>$$</td>\n",
       "      <td>47.562070</td>\n",
       "      <td>-122.385090</td>\n",
       "      <td>Error</td>\n",
       "    </tr>\n",
       "    <tr>\n",
       "      <th>9</th>\n",
       "      <td>wi-mbKEz4Ha1YYaOB8zHnw</td>\n",
       "      <td>kōbo-pizza-seattle</td>\n",
       "      <td>Kōbo Pizza</td>\n",
       "      <td>https://s3-media1.fl.yelpcdn.com/bphoto/6et4T9...</td>\n",
       "      <td>False</td>\n",
       "      <td>https://www.yelp.com/biz/k%C5%8Dbo-pizza-seatt...</td>\n",
       "      <td>32</td>\n",
       "      <td>[{'alias': 'pizza', 'title': 'Pizza'}]</td>\n",
       "      <td>4.0</td>\n",
       "      <td>[]</td>\n",
       "      <td>{\"address1\": \"714 E Pike St\", \"address2\": None...</td>\n",
       "      <td>1.253693e+10</td>\n",
       "      <td>(253) 693-0207</td>\n",
       "      <td>2025.139396</td>\n",
       "      <td>NaN</td>\n",
       "      <td>47.614400</td>\n",
       "      <td>-122.322710</td>\n",
       "      <td>Error</td>\n",
       "    </tr>\n",
       "    <tr>\n",
       "      <th>11</th>\n",
       "      <td>ugTsEtjvwRhteac_6JcuPw</td>\n",
       "      <td>italian-family-pizza-seattle</td>\n",
       "      <td>Italian Family Pizza</td>\n",
       "      <td>https://s3-media2.fl.yelpcdn.com/bphoto/SgiSrJ...</td>\n",
       "      <td>False</td>\n",
       "      <td>https://www.yelp.com/biz/italian-family-pizza-...</td>\n",
       "      <td>1004</td>\n",
       "      <td>[{'alias': 'pizza', 'title': 'Pizza'}, {'alias...</td>\n",
       "      <td>4.0</td>\n",
       "      <td>['delivery', 'pickup']</td>\n",
       "      <td>{\"address1\": \"1028 Madison St\", \"address2\": No...</td>\n",
       "      <td>1.206538e+10</td>\n",
       "      <td>(206) 538-0040</td>\n",
       "      <td>2271.307105</td>\n",
       "      <td>$$</td>\n",
       "      <td>47.609370</td>\n",
       "      <td>-122.325460</td>\n",
       "      <td>Error</td>\n",
       "    </tr>\n",
       "    <tr>\n",
       "      <th>...</th>\n",
       "      <td>...</td>\n",
       "      <td>...</td>\n",
       "      <td>...</td>\n",
       "      <td>...</td>\n",
       "      <td>...</td>\n",
       "      <td>...</td>\n",
       "      <td>...</td>\n",
       "      <td>...</td>\n",
       "      <td>...</td>\n",
       "      <td>...</td>\n",
       "      <td>...</td>\n",
       "      <td>...</td>\n",
       "      <td>...</td>\n",
       "      <td>...</td>\n",
       "      <td>...</td>\n",
       "      <td>...</td>\n",
       "      <td>...</td>\n",
       "      <td>...</td>\n",
       "    </tr>\n",
       "    <tr>\n",
       "      <th>833</th>\n",
       "      <td>3cLNDJ2vI29LWNvU7vVIuQ</td>\n",
       "      <td>capital-one-café-bellevue-2</td>\n",
       "      <td>Capital One Café</td>\n",
       "      <td>https://s3-media1.fl.yelpcdn.com/bphoto/gcL_qI...</td>\n",
       "      <td>False</td>\n",
       "      <td>https://www.yelp.com/biz/capital-one-caf%C3%A9...</td>\n",
       "      <td>42</td>\n",
       "      <td>[{'alias': 'banks', 'title': 'Banks &amp; Credit U...</td>\n",
       "      <td>4.0</td>\n",
       "      <td>[]</td>\n",
       "      <td>{\"address1\": \"400 Bellevue Way NE\", \"address2\"...</td>\n",
       "      <td>1.425372e+10</td>\n",
       "      <td>(425) 372-0250</td>\n",
       "      <td>7071.129218</td>\n",
       "      <td>$</td>\n",
       "      <td>47.614080</td>\n",
       "      <td>-122.201363</td>\n",
       "      <td>Error</td>\n",
       "    </tr>\n",
       "    <tr>\n",
       "      <th>834</th>\n",
       "      <td>Nihv2RfuTZ4TI8BQl3anmA</td>\n",
       "      <td>qfc-kirkland-4</td>\n",
       "      <td>QFC</td>\n",
       "      <td>https://s3-media2.fl.yelpcdn.com/bphoto/NYz4rH...</td>\n",
       "      <td>False</td>\n",
       "      <td>https://www.yelp.com/biz/qfc-kirkland-4?adjust...</td>\n",
       "      <td>32</td>\n",
       "      <td>[{'alias': 'grocery', 'title': 'Grocery'}]</td>\n",
       "      <td>3.0</td>\n",
       "      <td>[]</td>\n",
       "      <td>{\"address1\": \"457 Central Way\", \"address2\": \"\"...</td>\n",
       "      <td>1.425827e+10</td>\n",
       "      <td>(425) 827-2205</td>\n",
       "      <td>10212.263314</td>\n",
       "      <td>$$</td>\n",
       "      <td>47.678048</td>\n",
       "      <td>-122.199308</td>\n",
       "      <td>Error</td>\n",
       "    </tr>\n",
       "    <tr>\n",
       "      <th>852</th>\n",
       "      <td>AsgtzyqpdjuPyjaEUVcUXA</td>\n",
       "      <td>jewel-of-india-seattle-3</td>\n",
       "      <td>Jewel Of India</td>\n",
       "      <td>https://s3-media2.fl.yelpcdn.com/bphoto/qJGMnl...</td>\n",
       "      <td>False</td>\n",
       "      <td>https://www.yelp.com/biz/jewel-of-india-seattl...</td>\n",
       "      <td>411</td>\n",
       "      <td>[{'alias': 'indpak', 'title': 'Indian'}]</td>\n",
       "      <td>3.5</td>\n",
       "      <td>['pickup', 'delivery']</td>\n",
       "      <td>{\"address1\": \"4735 University Way NE\", \"addres...</td>\n",
       "      <td>1.206524e+10</td>\n",
       "      <td>(206) 523-5275</td>\n",
       "      <td>5825.461180</td>\n",
       "      <td>$$</td>\n",
       "      <td>47.664103</td>\n",
       "      <td>-122.313426</td>\n",
       "      <td>Error</td>\n",
       "    </tr>\n",
       "    <tr>\n",
       "      <th>853</th>\n",
       "      <td>oniQ68t6VR1naVtUXmfETQ</td>\n",
       "      <td>pokeworks-bellevue-2</td>\n",
       "      <td>Pokeworks</td>\n",
       "      <td>https://s3-media1.fl.yelpcdn.com/bphoto/DqSOK8...</td>\n",
       "      <td>False</td>\n",
       "      <td>https://www.yelp.com/biz/pokeworks-bellevue-2?...</td>\n",
       "      <td>284</td>\n",
       "      <td>[{'alias': 'poke', 'title': 'Poke'}, {'alias':...</td>\n",
       "      <td>4.0</td>\n",
       "      <td>['pickup', 'delivery']</td>\n",
       "      <td>{\"address1\": \"222 Bellevue Way NE\", \"address2\"...</td>\n",
       "      <td>1.425214e+10</td>\n",
       "      <td>(425) 214-1182</td>\n",
       "      <td>7072.982860</td>\n",
       "      <td>$$</td>\n",
       "      <td>47.612521</td>\n",
       "      <td>-122.201333</td>\n",
       "      <td>Error</td>\n",
       "    </tr>\n",
       "    <tr>\n",
       "      <th>854</th>\n",
       "      <td>i8mygke4ckycOudTO_3UQQ</td>\n",
       "      <td>café-cesura-bellevue-4</td>\n",
       "      <td>Café Cesura</td>\n",
       "      <td>https://s3-media4.fl.yelpcdn.com/bphoto/uEiPxA...</td>\n",
       "      <td>False</td>\n",
       "      <td>https://www.yelp.com/biz/caf%C3%A9-cesura-bell...</td>\n",
       "      <td>552</td>\n",
       "      <td>[{'alias': 'coffee', 'title': 'Coffee &amp; Tea'},...</td>\n",
       "      <td>3.5</td>\n",
       "      <td>['delivery']</td>\n",
       "      <td>{\"address1\": \"1015 108th Ave NE\", \"address2\": ...</td>\n",
       "      <td>1.425955e+10</td>\n",
       "      <td>(425) 954-7277</td>\n",
       "      <td>7466.233853</td>\n",
       "      <td>$</td>\n",
       "      <td>47.619646</td>\n",
       "      <td>-122.196551</td>\n",
       "      <td>Error</td>\n",
       "    </tr>\n",
       "  </tbody>\n",
       "</table>\n",
       "<p>311 rows × 18 columns</p>\n",
       "</div>"
      ],
      "text/plain": [
       "                         id                         alias  \\\n",
       "0    EwrAoy7XbX8nfemZdDvupA              cornelly-seattle   \n",
       "1    FVbwpNA1uZEGiM02N4XtUg                blotto-seattle   \n",
       "3    IrohtoYjnAR_vc6w6CRCxA                  moto-seattle   \n",
       "9    wi-mbKEz4Ha1YYaOB8zHnw            kōbo-pizza-seattle   \n",
       "11   ugTsEtjvwRhteac_6JcuPw  italian-family-pizza-seattle   \n",
       "..                      ...                           ...   \n",
       "833  3cLNDJ2vI29LWNvU7vVIuQ   capital-one-café-bellevue-2   \n",
       "834  Nihv2RfuTZ4TI8BQl3anmA                qfc-kirkland-4   \n",
       "852  AsgtzyqpdjuPyjaEUVcUXA      jewel-of-india-seattle-3   \n",
       "853  oniQ68t6VR1naVtUXmfETQ          pokeworks-bellevue-2   \n",
       "854  i8mygke4ckycOudTO_3UQQ        café-cesura-bellevue-4   \n",
       "\n",
       "                     name                                          image_url  \\\n",
       "0                Cornelly  https://s3-media4.fl.yelpcdn.com/bphoto/HlYYBT...   \n",
       "1                  Blotto  https://s3-media3.fl.yelpcdn.com/bphoto/Q4Y1Cw...   \n",
       "3                    Moto  https://s3-media2.fl.yelpcdn.com/bphoto/FBmvjy...   \n",
       "9              Kōbo Pizza  https://s3-media1.fl.yelpcdn.com/bphoto/6et4T9...   \n",
       "11   Italian Family Pizza  https://s3-media2.fl.yelpcdn.com/bphoto/SgiSrJ...   \n",
       "..                    ...                                                ...   \n",
       "833      Capital One Café  https://s3-media1.fl.yelpcdn.com/bphoto/gcL_qI...   \n",
       "834                   QFC  https://s3-media2.fl.yelpcdn.com/bphoto/NYz4rH...   \n",
       "852        Jewel Of India  https://s3-media2.fl.yelpcdn.com/bphoto/qJGMnl...   \n",
       "853             Pokeworks  https://s3-media1.fl.yelpcdn.com/bphoto/DqSOK8...   \n",
       "854           Café Cesura  https://s3-media4.fl.yelpcdn.com/bphoto/uEiPxA...   \n",
       "\n",
       "     is_closed                                                url  \\\n",
       "0        False  https://www.yelp.com/biz/cornelly-seattle?adju...   \n",
       "1        False  https://www.yelp.com/biz/blotto-seattle?adjust...   \n",
       "3        False  https://www.yelp.com/biz/moto-seattle?adjust_c...   \n",
       "9        False  https://www.yelp.com/biz/k%C5%8Dbo-pizza-seatt...   \n",
       "11       False  https://www.yelp.com/biz/italian-family-pizza-...   \n",
       "..         ...                                                ...   \n",
       "833      False  https://www.yelp.com/biz/capital-one-caf%C3%A9...   \n",
       "834      False  https://www.yelp.com/biz/qfc-kirkland-4?adjust...   \n",
       "852      False  https://www.yelp.com/biz/jewel-of-india-seattl...   \n",
       "853      False  https://www.yelp.com/biz/pokeworks-bellevue-2?...   \n",
       "854      False  https://www.yelp.com/biz/caf%C3%A9-cesura-bell...   \n",
       "\n",
       "     review_count                                         categories  rating  \\\n",
       "0             101  [{'alias': 'pizza', 'title': 'Pizza'}, {'alias...     4.5   \n",
       "1              40             [{'alias': 'pizza', 'title': 'Pizza'}]     4.5   \n",
       "3             143  [{'alias': 'pizza', 'title': 'Pizza'}, {'alias...     4.5   \n",
       "9              32             [{'alias': 'pizza', 'title': 'Pizza'}]     4.0   \n",
       "11           1004  [{'alias': 'pizza', 'title': 'Pizza'}, {'alias...     4.0   \n",
       "..            ...                                                ...     ...   \n",
       "833            42  [{'alias': 'banks', 'title': 'Banks & Credit U...     4.0   \n",
       "834            32         [{'alias': 'grocery', 'title': 'Grocery'}]     3.0   \n",
       "852           411           [{'alias': 'indpak', 'title': 'Indian'}]     3.5   \n",
       "853           284  [{'alias': 'poke', 'title': 'Poke'}, {'alias':...     4.0   \n",
       "854           552  [{'alias': 'coffee', 'title': 'Coffee & Tea'},...     3.5   \n",
       "\n",
       "               transactions  \\\n",
       "0    ['delivery', 'pickup']   \n",
       "1                        []   \n",
       "3              ['delivery']   \n",
       "9                        []   \n",
       "11   ['delivery', 'pickup']   \n",
       "..                      ...   \n",
       "833                      []   \n",
       "834                      []   \n",
       "852  ['pickup', 'delivery']   \n",
       "853  ['pickup', 'delivery']   \n",
       "854            ['delivery']   \n",
       "\n",
       "                                              location         phone  \\\n",
       "0    {\"address1\": \"601 Summit Ave E\", \"address2\": \"...           NaN   \n",
       "1    {\"address1\": \"1830 12th Ave\", \"address2\": \"\", ...  1.206403e+10   \n",
       "3    {\"address1\": \"4526 42nd Ave SW\", \"address2\": \"...  1.206421e+10   \n",
       "9    {\"address1\": \"714 E Pike St\", \"address2\": None...  1.253693e+10   \n",
       "11   {\"address1\": \"1028 Madison St\", \"address2\": No...  1.206538e+10   \n",
       "..                                                 ...           ...   \n",
       "833  {\"address1\": \"400 Bellevue Way NE\", \"address2\"...  1.425372e+10   \n",
       "834  {\"address1\": \"457 Central Way\", \"address2\": \"\"...  1.425827e+10   \n",
       "852  {\"address1\": \"4735 University Way NE\", \"addres...  1.206524e+10   \n",
       "853  {\"address1\": \"222 Bellevue Way NE\", \"address2\"...  1.425214e+10   \n",
       "854  {\"address1\": \"1015 108th Ave NE\", \"address2\": ...  1.425955e+10   \n",
       "\n",
       "      display_phone      distance price   latitude   longitude  \\\n",
       "0               NaN   2578.701393   NaN  47.624577 -122.325577   \n",
       "1    (206) 403-1809   1686.862176   NaN  47.618490 -122.316640   \n",
       "3    (206) 420-8880   8784.075722    $$  47.562070 -122.385090   \n",
       "9    (253) 693-0207   2025.139396   NaN  47.614400 -122.322710   \n",
       "11   (206) 538-0040   2271.307105    $$  47.609370 -122.325460   \n",
       "..              ...           ...   ...        ...         ...   \n",
       "833  (425) 372-0250   7071.129218     $  47.614080 -122.201363   \n",
       "834  (425) 827-2205  10212.263314    $$  47.678048 -122.199308   \n",
       "852  (206) 523-5275   5825.461180    $$  47.664103 -122.313426   \n",
       "853  (425) 214-1182   7072.982860    $$  47.612521 -122.201333   \n",
       "854  (425) 954-7277   7466.233853     $  47.619646 -122.196551   \n",
       "\n",
       "    display_location  \n",
       "0              Error  \n",
       "1              Error  \n",
       "3              Error  \n",
       "9              Error  \n",
       "11             Error  \n",
       "..               ...  \n",
       "833            Error  \n",
       "834            Error  \n",
       "852            Error  \n",
       "853            Error  \n",
       "854            Error  \n",
       "\n",
       "[311 rows x 18 columns]"
      ]
     },
     "execution_count": 27,
     "metadata": {},
     "output_type": "execute_result"
    }
   ],
   "source": [
    "## filter for businesses with display_location == \"ERROR\"\n",
    "errors = df[df['display_location'] == 'Error']\n",
    "errors"
   ]
  },
  {
   "cell_type": "code",
   "execution_count": 30,
   "id": "9c115199",
   "metadata": {},
   "outputs": [
    {
     "data": {
      "text/plain": [
       "'{\"address1\": \"1001 Broadway\", \"address2\": \"\", \"address3\": None, \"city\": \"Seattle\", \"zip_code\": \"98122\", \"country\": \"US\", \"state\": \"WA\", \"display_address\": [\"1001 Broadway\", \"Seattle, WA 98122\"]}'"
      ]
     },
     "execution_count": 30,
     "metadata": {},
     "output_type": "execute_result"
    }
   ],
   "source": [
    "## slice out a new test address and inspect, note 437 has an error\n",
    "test_addr = df.loc[437, 'location']\n",
    "test_addr"
   ]
  },
  {
   "cell_type": "markdown",
   "id": "448fa8c6",
   "metadata": {},
   "source": [
    "> After some more investigation, we would find a few issues with these \"ERROR\" rows.\n",
    "1. They contained None.\n",
    "2. They contained an apostrophe in the name.\n",
    "3. ...?"
   ]
  },
  {
   "cell_type": "markdown",
   "id": "68a960d4",
   "metadata": {},
   "source": [
    "### Possible Fixes (if we care to/have the time)\n"
   ]
  },
  {
   "cell_type": "markdown",
   "id": "7c21eda1",
   "metadata": {},
   "source": [
    "- Use Regular Expressions to find an fix the display addresses with \"'\" in them\n",
    "- Use string split to split on the word display address.\n",
    "    - Then use string methods to clean up"
   ]
  },
  {
   "cell_type": "markdown",
   "id": "df8d68fb",
   "metadata": {},
   "source": [
    "### Moving Forward without those rows (for now)"
   ]
  },
  {
   "cell_type": "code",
   "execution_count": 32,
   "id": "bddbcc87",
   "metadata": {},
   "outputs": [],
   "source": [
    "## remove any rows where display_location == 'ERROR'\n",
    "df = df.loc[df['display_location']!= 'ERROR']"
   ]
  },
  {
   "cell_type": "markdown",
   "id": "c1338cd2",
   "metadata": {},
   "source": [
    "- We want the \"display_address\" key from the \"display_location\" dictionaries.\n",
    "- We could use a .apply and a lamda to slice out the desired key."
   ]
  },
  {
   "cell_type": "code",
   "execution_count": null,
   "id": "82544b10",
   "metadata": {},
   "outputs": [],
   "source": [
    "## use apply and lambda to slice correct key\n",
    "df['display_address'] = df['display_location'].apply(lambda x :x['display_address'])\n",
    "df.head(3)"
   ]
  },
  {
   "cell_type": "markdown",
   "id": "c65a79ab",
   "metadata": {},
   "source": [
    "- Almost done! We want to convert display_address to a string instead a list of strings.\n",
    "- We can use the string method .join to do so!"
   ]
  },
  {
   "cell_type": "code",
   "execution_count": null,
   "id": "5f64f1dd",
   "metadata": {},
   "outputs": [],
   "source": [
    "## slice out a test_address\n",
    "test_add = df.loc[339,'display_address']\n",
    "test_add"
   ]
  },
  {
   "cell_type": "code",
   "execution_count": null,
   "id": "876bb98e",
   "metadata": {},
   "outputs": [],
   "source": [
    "## test using .join with a \"\\n\"\n",
    "'\\n'.join(test_add)"
   ]
  },
  {
   "cell_type": "code",
   "execution_count": null,
   "id": "55a6176d",
   "metadata": {
    "scrolled": true
   },
   "outputs": [],
   "source": [
    "## apply the join to every row with a lambda\n",
    "df['Address'] = df['display_address'].apply(lambda x: '\\n'.join(x))\n",
    "df"
   ]
  },
  {
   "cell_type": "markdown",
   "id": "09b90087",
   "metadata": {},
   "source": [
    "### Final Map"
   ]
  },
  {
   "cell_type": "code",
   "execution_count": null,
   "id": "0afd236d",
   "metadata": {},
   "outputs": [],
   "source": [
    "## make ourn final map and save as varaible\n",
    "pfig = px.scatter_mapbox(df, lat='latitude',lon='longitude',\n",
    "                  mapbox_style='open-street-map', hover_name='name',\n",
    "                         hover_data=['price','rating','Address'],\n",
    "                 color='rating',\n",
    "                        title='Restaurants with Pizza in Seattle, WA')\n",
    "\n",
    "\n",
    "pfig.show()"
   ]
  },
  {
   "cell_type": "markdown",
   "id": "47e93ee3",
   "metadata": {},
   "source": [
    "#### HTML Uses `<br>` instead of `\\n`"
   ]
  },
  {
   "cell_type": "code",
   "execution_count": null,
   "id": "d2758626",
   "metadata": {},
   "outputs": [],
   "source": [
    "## remake the final address column with <br> instead \n",
    "\n",
    "## plot the final map\n",
    "pfig.write_html('final_map.html')"
   ]
  },
  {
   "cell_type": "code",
   "execution_count": null,
   "id": "79e43699",
   "metadata": {},
   "outputs": [],
   "source": [
    "## use fig.write_html to save map\n"
   ]
  }
 ],
 "metadata": {
  "kernelspec": {
   "display_name": "Python (dojo-env)",
   "language": "python",
   "name": "dojo-env"
  },
  "language_info": {
   "codemirror_mode": {
    "name": "ipython",
    "version": 3
   },
   "file_extension": ".py",
   "mimetype": "text/x-python",
   "name": "python",
   "nbconvert_exporter": "python",
   "pygments_lexer": "ipython3",
   "version": "3.9.15"
  },
  "toc": {
   "base_numbering": 1,
   "nav_menu": {},
   "number_sections": false,
   "sideBar": true,
   "skip_h1_title": false,
   "title_cell": "Table of Contents",
   "title_sidebar": "Contents",
   "toc_cell": false,
   "toc_position": {
    "height": "calc(100% - 180px)",
    "left": "10px",
    "top": "150px",
    "width": "299.195px"
   },
   "toc_section_display": true,
   "toc_window_display": true
  }
 },
 "nbformat": 4,
 "nbformat_minor": 5
}
